{
  "cells": [
    {
      "cell_type": "markdown",
      "metadata": {
        "id": "view-in-github",
        "colab_type": "text"
      },
      "source": [
        "<a href=\"https://colab.research.google.com/github/MuhammetSarican/global_ai_hub-summer_camp/blob/main/Guided_project_3.ipynb\" target=\"_parent\"><img src=\"https://colab.research.google.com/assets/colab-badge.svg\" alt=\"Open In Colab\"/></a>"
      ]
    },
    {
      "cell_type": "markdown",
      "metadata": {
        "id": "15177c1c"
      },
      "source": [
        "#Chapter 3: Data cleaning exercise\n",
        "\n",
        "### Sales department performance analysis\n",
        "\n",
        "The HR department wants to analyze the performance of the employees in the sales department.\n",
        "\n",
        "### Data Reading\n",
        "Rachel wrote a text file employee_revenue.txt including all necessary information, but she needs help to extract the necessary information.\n",
        "\n",
        "Start by uploading the employee_revenue file to the working directory.\n",
        "\n",
        "📌 Use the .read() method to open the text file in read mode and assign it to the variable \"data\".\n"
      ],
      "id": "15177c1c"
    },
    {
      "cell_type": "code",
      "execution_count": 2,
      "metadata": {
        "id": "da79a8da"
      },
      "outputs": [],
      "source": [
        "#Open the file in read mode\n",
        "file=open(\"employee_revenue.txt\",\"r\")"
      ],
      "id": "da79a8da"
    },
    {
      "cell_type": "code",
      "source": [
        "data=file.read()"
      ],
      "metadata": {
        "id": "WvVkxypaQvzB"
      },
      "id": "WvVkxypaQvzB",
      "execution_count": 4,
      "outputs": []
    },
    {
      "cell_type": "code",
      "execution_count": 5,
      "metadata": {
        "id": "75a5de52",
        "colab": {
          "base_uri": "https://localhost:8080/",
          "height": 165
        },
        "outputId": "23751b5a-d6e1-4756-e42e-35b9975e5429"
      },
      "outputs": [
        {
          "output_type": "execute_result",
          "data": {
            "text/plain": [
              "'  Ben made 300 calls and generated 2400 dollars last Month with an 8$ average deal size.  \\nomer called 10 times and Sold 2 courses generated 60 dollars last month with a 6$ average deal size.\\n   KAren called 500 people and achieved success by GETting 24$ average deal size, got 12000 dollars revenue.     \\nCeline with 70 calls, made 2275 dollars and 32$ average deal size IN the previous month.  \\n     Sue called 100 people and earned 500 Dollars in REvenue and an AVERAGE DEAL SIZE of 5$ Last month.\\nBora called 100 people generated 770 dollars last month, his average deal size was 25$.  \\nRose made 600 phone calls and GENERATING 4000 dollars a past month 25$ average deal SIZE. \\nEllen made 800 calls and generated 6000 dollars a prior mONTH and reached 40$ the average deal size. \\n bob made 200 phone calls, helped to make a proGress and generated 800 dollars LAST MONTH and gaining 15$ average deal size.\\nTaylor, with 450 calls generated 1200 dollars in revenue pASt month, and the average deal size was 10$. \\n  JuDE made 80 calls and earned 500 dollars for the company last month, her average deal size was 12$.\\n'"
            ],
            "application/vnd.google.colaboratory.intrinsic+json": {
              "type": "string"
            }
          },
          "metadata": {},
          "execution_count": 5
        }
      ],
      "source": [
        "#Print the data\n",
        "data"
      ],
      "id": "75a5de52"
    },
    {
      "cell_type": "markdown",
      "metadata": {
        "id": "33d4f7ef"
      },
      "source": [
        "### Data Cleaning\n",
        "\n",
        "You can see that the data needs to be cleaned and information has to be extracted from these lines. \n",
        "\n",
        "To be able to clean the data, you need to separate the text into lines.\n",
        "\n",
        "📌 Use the .splitlines() method."
      ],
      "id": "33d4f7ef"
    },
    {
      "cell_type": "code",
      "execution_count": 6,
      "metadata": {
        "id": "9a1a651d"
      },
      "outputs": [],
      "source": [
        "#Seperate the data into lines\n",
        "lines=data.splitlines()"
      ],
      "id": "9a1a651d"
    },
    {
      "cell_type": "markdown",
      "metadata": {
        "id": "CKkeig2poz7w"
      },
      "source": [
        "### Clean the data line by line\n",
        "\n",
        "Start to clean the data for the first line.\n",
        "\n",
        "📌 Use the .strip() method to remove the whitespaces from the edges of the string."
      ],
      "id": "CKkeig2poz7w"
    },
    {
      "cell_type": "code",
      "execution_count": 7,
      "metadata": {
        "id": "2332622c",
        "colab": {
          "base_uri": "https://localhost:8080/",
          "height": 36
        },
        "outputId": "2e0a386c-1027-4075-b640-ea926f731759"
      },
      "outputs": [
        {
          "output_type": "execute_result",
          "data": {
            "text/plain": [
              "'  Ben made 300 calls and generated 2400 dollars last Month with an 8$ average deal size.  '"
            ],
            "application/vnd.google.colaboratory.intrinsic+json": {
              "type": "string"
            }
          },
          "metadata": {},
          "execution_count": 7
        }
      ],
      "source": [
        "#Take the first line\n",
        "lines[0]"
      ],
      "id": "2332622c"
    },
    {
      "cell_type": "code",
      "execution_count": 11,
      "metadata": {
        "id": "26219c0d",
        "colab": {
          "base_uri": "https://localhost:8080/",
          "height": 36
        },
        "outputId": "2f32eeab-a356-4a14-871e-32215af5b729"
      },
      "outputs": [
        {
          "output_type": "execute_result",
          "data": {
            "text/plain": [
              "'Ben made 300 calls and generated 2400 dollars last Month with an 8$ average deal size.'"
            ],
            "application/vnd.google.colaboratory.intrinsic+json": {
              "type": "string"
            }
          },
          "metadata": {},
          "execution_count": 11
        }
      ],
      "source": [
        "#Remove the whitespaces from the edges\n",
        "string=lines[0].strip(\" \")\n",
        "string"
      ],
      "id": "26219c0d"
    },
    {
      "cell_type": "markdown",
      "metadata": {
        "id": "ed90bfc6"
      },
      "source": [
        "Next, you need to fix the capitalization issues.\n",
        "\n",
        "📌 Use the .lower() method to convert the text to lowercase.\n",
        "\n",
        "📌 Then use the .capitalize() method to capitalize the first letter."
      ],
      "id": "ed90bfc6"
    },
    {
      "cell_type": "code",
      "execution_count": 12,
      "metadata": {
        "id": "ef8bca74",
        "colab": {
          "base_uri": "https://localhost:8080/"
        },
        "outputId": "7652cffc-d9d9-407e-95ca-383e40d53d30"
      },
      "outputs": [
        {
          "output_type": "stream",
          "name": "stdout",
          "text": [
            "ben made 300 calls and generated 2400 dollars last month with an 8$ average deal size.\n"
          ]
        }
      ],
      "source": [
        "#Convert the string to lowercase\n",
        "print(string.lower())"
      ],
      "id": "ef8bca74"
    },
    {
      "cell_type": "code",
      "execution_count": 13,
      "metadata": {
        "id": "d4be9443",
        "colab": {
          "base_uri": "https://localhost:8080/"
        },
        "outputId": "e80eb4ea-0f3b-47b6-c9f7-97a1055474d2"
      },
      "outputs": [
        {
          "output_type": "stream",
          "name": "stdout",
          "text": [
            "Ben made 300 calls and generated 2400 dollars last month with an 8$ average deal size.\n"
          ]
        }
      ],
      "source": [
        "#Capitalize the first character\n",
        "print(string.capitalize())"
      ],
      "id": "d4be9443"
    },
    {
      "cell_type": "markdown",
      "metadata": {
        "id": "f89b01c4"
      },
      "source": [
        "### Information Extraction\n",
        "\n",
        "To extract the information, you need to split the sentence into words. \n",
        "\n",
        "📌 Use the .split() method.\n"
      ],
      "id": "f89b01c4"
    },
    {
      "cell_type": "code",
      "execution_count": 14,
      "metadata": {
        "id": "04ede2fd",
        "colab": {
          "base_uri": "https://localhost:8080/"
        },
        "outputId": "ce30c4bd-75ce-40b7-e575-e52650e87805"
      },
      "outputs": [
        {
          "output_type": "execute_result",
          "data": {
            "text/plain": [
              "['Ben',\n",
              " 'made',\n",
              " '300',\n",
              " 'calls',\n",
              " 'and',\n",
              " 'generated',\n",
              " '2400',\n",
              " 'dollars',\n",
              " 'last',\n",
              " 'Month',\n",
              " 'with',\n",
              " 'an',\n",
              " '8$',\n",
              " 'average',\n",
              " 'deal',\n",
              " 'size.']"
            ]
          },
          "metadata": {},
          "execution_count": 14
        }
      ],
      "source": [
        "#Split the sentece into words\n",
        "split_string=string.split(\" \")\n",
        "split_string"
      ],
      "id": "04ede2fd"
    },
    {
      "cell_type": "markdown",
      "metadata": {
        "id": "9138eb5b"
      },
      "source": [
        "You might noticed that the first element in the list is the name and the third element is the number of calls.\n",
        "\n",
        "📌 Use the indeces to extract the name and number of calls."
      ],
      "id": "9138eb5b"
    },
    {
      "cell_type": "code",
      "execution_count": 15,
      "metadata": {
        "id": "897c59e5",
        "colab": {
          "base_uri": "https://localhost:8080/",
          "height": 36
        },
        "outputId": "62db672a-1c1e-4b99-e793-f76f5aa92d57"
      },
      "outputs": [
        {
          "output_type": "execute_result",
          "data": {
            "text/plain": [
              "'Ben'"
            ],
            "application/vnd.google.colaboratory.intrinsic+json": {
              "type": "string"
            }
          },
          "metadata": {},
          "execution_count": 15
        }
      ],
      "source": [
        "#Use the index 0 to access the name element\n",
        "name=split_string[0]\n",
        "name"
      ],
      "id": "897c59e5"
    },
    {
      "cell_type": "code",
      "execution_count": 17,
      "metadata": {
        "id": "98103332",
        "colab": {
          "base_uri": "https://localhost:8080/",
          "height": 36
        },
        "outputId": "f8f3b448-5f2f-49f3-ce7a-68dcb5cdc524"
      },
      "outputs": [
        {
          "output_type": "execute_result",
          "data": {
            "text/plain": [
              "'300'"
            ],
            "application/vnd.google.colaboratory.intrinsic+json": {
              "type": "string"
            }
          },
          "metadata": {},
          "execution_count": 17
        }
      ],
      "source": [
        "#Use the index 2 to access the number of calls element\n",
        "call_number=split_string[2]\n",
        "call_number"
      ],
      "id": "98103332"
    },
    {
      "cell_type": "markdown",
      "metadata": {
        "id": "etif7Kb3tEUC"
      },
      "source": [
        "So far so good!\n",
        "\n",
        "But as you can see the sentence order is not the same after the 7th element.\n",
        "\n",
        "To extract the average deal size you need to come up with a different approach. You can use the \"$\" sign to find the corresponding element.\n",
        "\n",
        "📌 Loop over the list to find the element that includes the \"$\" sign.\n",
        "\n",
        "📌 Then, use the .split() method to divide the string into the number and the $ sign."
      ],
      "id": "etif7Kb3tEUC"
    },
    {
      "cell_type": "code",
      "execution_count": 21,
      "metadata": {
        "id": "443a9ddf",
        "colab": {
          "base_uri": "https://localhost:8080/",
          "height": 36
        },
        "outputId": "899bb6ed-d8b9-4bc0-a86c-813eb141b2d1"
      },
      "outputs": [
        {
          "output_type": "execute_result",
          "data": {
            "text/plain": [
              "'8'"
            ],
            "application/vnd.google.colaboratory.intrinsic+json": {
              "type": "string"
            }
          },
          "metadata": {},
          "execution_count": 21
        }
      ],
      "source": [
        "#Find the element with the \"$\" sign\n",
        "for i in split_string:\n",
        "  #Divide the number from it\n",
        "  if \"$\" in i:\n",
        "    average_deal_size=i.split(\"$\")[0]\n",
        "#Print the average deal size\n",
        "average_deal_size\n"
      ],
      "id": "443a9ddf"
    },
    {
      "cell_type": "markdown",
      "metadata": {
        "id": "1332df7e"
      },
      "source": [
        "Similarly, we can use the string \"dollars\" to extract the revenue, which is the element right before \"dollars\".\n",
        "\n",
        "📌 Use the .index() method to identify the index for the \"dollars\" element.\n",
        "\n",
        "📌 Then, use this index to specify and extract the revenue."
      ],
      "id": "1332df7e"
    },
    {
      "cell_type": "code",
      "execution_count": 23,
      "metadata": {
        "id": "a00945b0",
        "colab": {
          "base_uri": "https://localhost:8080/"
        },
        "outputId": "174b9527-40b6-4e85-94a7-7132d5918d28"
      },
      "outputs": [
        {
          "output_type": "execute_result",
          "data": {
            "text/plain": [
              "7"
            ]
          },
          "metadata": {},
          "execution_count": 23
        }
      ],
      "source": [
        "#Find the index of element \"dollars\"\n",
        "dollars_index=split_string.index(\"dollars\")\n",
        "dollars_index"
      ],
      "id": "a00945b0"
    },
    {
      "cell_type": "code",
      "execution_count": 25,
      "metadata": {
        "id": "c663bd03"
      },
      "outputs": [],
      "source": [
        "#Subtract one from the index to identify the index of the revenue element\n",
        "revenue_element=dollars_index-1\n",
        "revenue=split_string[revenue_element]"
      ],
      "id": "c663bd03"
    },
    {
      "cell_type": "code",
      "execution_count": 26,
      "metadata": {
        "id": "2831e072",
        "colab": {
          "base_uri": "https://localhost:8080/",
          "height": 36
        },
        "outputId": "86c2f2d8-c537-4233-e391-25536e70554d"
      },
      "outputs": [
        {
          "output_type": "execute_result",
          "data": {
            "text/plain": [
              "'2400'"
            ],
            "application/vnd.google.colaboratory.intrinsic+json": {
              "type": "string"
            }
          },
          "metadata": {},
          "execution_count": 26
        }
      ],
      "source": [
        "#Extract the revenue\n",
        "revenue"
      ],
      "id": "2831e072"
    },
    {
      "cell_type": "markdown",
      "metadata": {
        "id": "537ed4c2"
      },
      "source": [
        "Great! You extracted all necessary information.\n",
        "\n",
        "📌 Print the information and check the types of the data."
      ],
      "id": "537ed4c2"
    },
    {
      "cell_type": "code",
      "execution_count": 28,
      "metadata": {
        "id": "ace2c99f",
        "colab": {
          "base_uri": "https://localhost:8080/"
        },
        "outputId": "fff6236f-d8d6-40f3-e1fa-7e7b873a2c75"
      },
      "outputs": [
        {
          "output_type": "stream",
          "name": "stdout",
          "text": [
            "\n",
            "Name: Ben\n",
            "\n",
            "Number of Calls: 300\n",
            "\n",
            "Average deal size: 8\n",
            "\n",
            "Revenue: 2400\n",
            "\n"
          ]
        }
      ],
      "source": [
        "#Print out the extracted information\n",
        "print(f\"\"\"\n",
        "Name: {name}\\n\n",
        "Number of Calls: {call_number}\\n\n",
        "Average deal size: {average_deal_size}\\n\n",
        "Revenue: {revenue}\n",
        "\"\"\")"
      ],
      "id": "ace2c99f"
    },
    {
      "cell_type": "code",
      "execution_count": 30,
      "metadata": {
        "id": "SwAyLOAInasY",
        "colab": {
          "base_uri": "https://localhost:8080/"
        },
        "outputId": "5871351a-4f89-4c9b-9295-5b127043929c"
      },
      "outputs": [
        {
          "output_type": "stream",
          "name": "stdout",
          "text": [
            "\n",
            "Name type: <class 'str'>\n",
            "\n",
            "Number of Calls type: <class 'str'>\n",
            "\n",
            "Average deal size type: <class 'str'>\n",
            "\n",
            "Revenue type: <class 'str'>\n",
            "\n"
          ]
        }
      ],
      "source": [
        "#Check the types\n",
        "print(f\"\"\"\n",
        "Name type: {type(name)}\\n\n",
        "Number of Calls type: {type(call_number)}\\n\n",
        "Average deal size type: {type(average_deal_size)}\\n\n",
        "Revenue type: {type(revenue)}\n",
        "\"\"\")"
      ],
      "id": "SwAyLOAInasY"
    },
    {
      "cell_type": "markdown",
      "metadata": {
        "id": "08f5b5fd"
      },
      "source": [
        "As you can see, we have the type string for all the data, but the average deal size, number of calls, and the revenue need to be integers. \n",
        "\n",
        "📌 Convert the data using the int() function and check again."
      ],
      "id": "08f5b5fd"
    },
    {
      "cell_type": "code",
      "execution_count": 32,
      "metadata": {
        "id": "5f42e3f0"
      },
      "outputs": [],
      "source": [
        "#Convert the datatypes of average deal size, number of calls, and revenue\n",
        "average_deal_size=int(average_deal_size)\n",
        "call_number=int(call_number)\n",
        "revenue=int(revenue)"
      ],
      "id": "5f42e3f0"
    },
    {
      "cell_type": "code",
      "execution_count": 33,
      "metadata": {
        "id": "89dc6fa1",
        "colab": {
          "base_uri": "https://localhost:8080/"
        },
        "outputId": "e869e010-1393-49cb-f8ff-65024ad1da8e"
      },
      "outputs": [
        {
          "output_type": "stream",
          "name": "stdout",
          "text": [
            "\n",
            "Name type: <class 'str'>\n",
            "\n",
            "Number of Calls type: <class 'int'>\n",
            "\n",
            "Average deal size type: <class 'int'>\n",
            "\n",
            "Revenue type: <class 'int'>\n",
            "\n"
          ]
        }
      ],
      "source": [
        "#Print out the information again\n",
        "print(f\"\"\"\n",
        "Name type: {type(name)}\\n\n",
        "Number of Calls type: {type(call_number)}\\n\n",
        "Average deal size type: {type(average_deal_size)}\\n\n",
        "Revenue type: {type(revenue)}\n",
        "\"\"\")"
      ],
      "id": "89dc6fa1"
    },
    {
      "cell_type": "markdown",
      "metadata": {
        "id": "0b194713"
      },
      "source": [
        "Now, you need to apply all the methods and functions to the list that contains the different strings of all employees.\n",
        "\n",
        "📌 Create an empty lists for storing names, number of calls, average deal sizes, and revenues.\n",
        "\n",
        "📌 Use a for loop to iterate through the list with the whole data.\n",
        "\n",
        "📌 Print out the necessary information."
      ],
      "id": "0b194713"
    },
    {
      "cell_type": "code",
      "execution_count": 34,
      "metadata": {
        "id": "5a4aab7e"
      },
      "outputs": [],
      "source": [
        "#Create empty lists for the names, number of calls, average deal sizes, revenues\n",
        "names=[]\n",
        "call_numbers=[]\n",
        "average_deal_sizes=[]\n",
        "revenues=[]"
      ],
      "id": "5a4aab7e"
    },
    {
      "cell_type": "code",
      "execution_count": 38,
      "metadata": {
        "id": "2366069b",
        "colab": {
          "base_uri": "https://localhost:8080/"
        },
        "outputId": "85421d4a-8256-4413-ed91-532938d09768"
      },
      "outputs": [
        {
          "output_type": "stream",
          "name": "stdout",
          "text": [
            "\n",
            "Names: ['Ben', 'Omer', 'Karen', 'Celine', 'Sue', 'Bora', 'Rose', 'Ellen', 'Bob', 'Taylor,', 'Jude']\n",
            "\n",
            "Number of Calls: [300, 10, 500, 70, 100, 100, 600, 800, 200, 450, 80]\n",
            "\n",
            "Average deal sizes: [8, 6, 24, 32, 5, 25, 25, 40, 15, 10, 12]\n",
            "\n",
            "Revenues: [2400, 60, 12000, 2275, 500, 770, 4000, 6000, 800, 1200, 500]\n",
            "\n"
          ]
        }
      ],
      "source": [
        "#Loop over the whole data\n",
        "for employee in lines:\n",
        "    #Clean the string\n",
        "    employee=employee.strip(\" \")\n",
        "    employee=employee.lower()\n",
        "    employee=employee.capitalize()\n",
        "    #Split the clean string\n",
        "    split_employee=employee.split(\" \")  \n",
        "    #Extract the name\n",
        "    name=split_employee[0]\n",
        "    call_number=split_employee[2]\n",
        "    #Extract the average deal size\n",
        "    for i in split_employee:\n",
        "      if \"$\" in i:\n",
        "        average_deal_size=i\n",
        "    average_deal_size=average_deal_size.split(\"$\")[0]\n",
        "    #Extract the revenue\n",
        "    dollars_index=split_employee.index(\"dollars\")\n",
        "    revenue_index=dollars_index-1\n",
        "    revenue=split_employee[revenue_index]\n",
        "    #Convert to the correct data types\n",
        "    average_deal_size=int(average_deal_size)\n",
        "    call_number=int(call_number)\n",
        "    revenue=int(revenue)\n",
        "    #Append the information to the lists\n",
        "    names.append(name)\n",
        "    call_numbers.append(call_number)\n",
        "    average_deal_sizes.append(average_deal_size)\n",
        "    revenues.append(revenue)\n",
        "#Print out the information\n",
        "print(f\"\"\"\n",
        "Names: {names}\\n\n",
        "Number of Calls: {call_numbers}\\n\n",
        "Average deal sizes: {average_deal_sizes}\\n\n",
        "Revenues: {revenues}\n",
        "\"\"\")"
      ],
      "id": "2366069b"
    },
    {
      "cell_type": "markdown",
      "metadata": {
        "id": "4d848787"
      },
      "source": [
        "Finally, you can make the process even easier and reusable by defining functions.\n",
        "\n",
        "📌 Define the function \"clean_extract\".\n",
        "\n",
        "📌 Use the retured values by assigning them to variables."
      ],
      "id": "4d848787"
    },
    {
      "cell_type": "code",
      "execution_count": 61,
      "metadata": {
        "id": "_ipfpGrirCs7"
      },
      "outputs": [],
      "source": [
        "#Create empty lists again\n",
        "names=[]\n",
        "call_numbers=[]\n",
        "average_deal_sizes=[]\n",
        "revenues=[]"
      ],
      "id": "_ipfpGrirCs7"
    },
    {
      "cell_type": "code",
      "execution_count": 62,
      "metadata": {
        "id": "tnFT5Fk2qu_x"
      },
      "outputs": [],
      "source": [
        "#Define a function to clean and extract the data\n",
        "def clean_extract(lines):\n",
        "  for employee in lines:\n",
        "    employee=employee.strip()\n",
        "    employee=employee.lower()\n",
        "    employee=employee.capitalize()\n",
        "\n",
        "    split_employee=employee.split(\" \")\n",
        "\n",
        "    name=split_employee[0]\n",
        "    call_number=split_employee[2]\n",
        "\n",
        "    for i in split_employee:\n",
        "      if \"$\" in i:\n",
        "        average_deal_size=i\n",
        "        average_deal_size=average_deal_size.split(\"$\")[0]\n",
        "\n",
        "    dollars_index=split_employee.index(\"dollars\")\n",
        "    revenue_index=dollars_index-1\n",
        "    revenue=split_employee[revenue_index]\n",
        "\n",
        "    average_deal_size=int(average_deal_size)\n",
        "    call_number=int(call_number)\n",
        "    revenue=int(revenue)\n",
        "\n",
        "    names.append(name)\n",
        "    call_numbers.append(call_number)\n",
        "    average_deal_sizes.append(average_deal_size)\n",
        "    revenues.append(revenue)\n",
        "\n",
        "  return names, call_numbers, average_deal_sizes, revenues"
      ],
      "id": "tnFT5Fk2qu_x"
    },
    {
      "cell_type": "code",
      "execution_count": 63,
      "metadata": {
        "id": "13b0fe6b"
      },
      "outputs": [],
      "source": [
        "#Assign returned values to variables\n",
        "names, call_numbers, average_deal_sizes, revenues=clean_extract(lines)"
      ],
      "id": "13b0fe6b"
    },
    {
      "cell_type": "code",
      "execution_count": 64,
      "metadata": {
        "id": "44e38957",
        "colab": {
          "base_uri": "https://localhost:8080/"
        },
        "outputId": "f968e9bb-35d9-4f99-ae4a-ef36cadeac20"
      },
      "outputs": [
        {
          "output_type": "stream",
          "name": "stdout",
          "text": [
            "\n",
            "Names: ['Ben', 'Omer', 'Karen', 'Celine', 'Sue', 'Bora', 'Rose', 'Ellen', 'Bob', 'Taylor,', 'Jude']\n",
            "\n",
            "Number of Calls: [300, 10, 500, 70, 100, 100, 600, 800, 200, 450, 80]\n",
            "\n",
            "Average deal sizes: [8, 6, 24, 32, 5, 25, 25, 40, 15, 10, 12]\n",
            "\n",
            "Revenues: [2400, 60, 12000, 2275, 500, 770, 4000, 6000, 800, 1200, 500]\n",
            "\n"
          ]
        }
      ],
      "source": [
        "#Print out the information\n",
        "print(f\"\"\"\n",
        "Names: {names}\\n\n",
        "Number of Calls: {call_numbers}\\n\n",
        "Average deal sizes: {average_deal_sizes}\\n\n",
        "Revenues: {revenues}\n",
        "\"\"\")"
      ],
      "id": "44e38957"
    },
    {
      "cell_type": "markdown",
      "metadata": {
        "id": "26efe652"
      },
      "source": [
        "### Performance Analysis Report\n",
        "\n",
        "Now that you cleaned the string and extracted all the information using the function, you can create performance analysis report for the last month.\n",
        "\n",
        "📌 Assign IDs to each employee.\n",
        "\n",
        "📌 Create dictionaries.\n",
        "\n",
        "📌 Sort the dictionaries.\n",
        "\n",
        "\n"
      ],
      "id": "26efe652"
    },
    {
      "cell_type": "markdown",
      "metadata": {
        "id": "ZT7mAK3M5k3W"
      },
      "source": [
        "First, check how many employees there are and assign the IDs.\n",
        "\n",
        "📌 Use the len() and range() function.\n"
      ],
      "id": "ZT7mAK3M5k3W"
    },
    {
      "cell_type": "code",
      "execution_count": 65,
      "metadata": {
        "id": "f20ff52f",
        "colab": {
          "base_uri": "https://localhost:8080/"
        },
        "outputId": "acfc3022-893b-440a-f274-998c94ae4445"
      },
      "outputs": [
        {
          "output_type": "execute_result",
          "data": {
            "text/plain": [
              "11"
            ]
          },
          "metadata": {},
          "execution_count": 65
        }
      ],
      "source": [
        "#Check the number of employees\n",
        "len(names)"
      ],
      "id": "f20ff52f"
    },
    {
      "cell_type": "code",
      "execution_count": 68,
      "metadata": {
        "id": "5c62caf8",
        "colab": {
          "base_uri": "https://localhost:8080/"
        },
        "outputId": "6797d8b2-f186-4b01-af51-0f6d3b278b1d"
      },
      "outputs": [
        {
          "output_type": "execute_result",
          "data": {
            "text/plain": [
              "[0, 1, 2, 3, 4, 5, 6, 7, 8, 9, 10]"
            ]
          },
          "metadata": {},
          "execution_count": 68
        }
      ],
      "source": [
        "#Generate IDs\n",
        "IDs=list(range(0,len(names)))\n",
        "IDs"
      ],
      "id": "5c62caf8"
    },
    {
      "cell_type": "code",
      "execution_count": 69,
      "metadata": {
        "id": "28cd8ce6",
        "colab": {
          "base_uri": "https://localhost:8080/"
        },
        "outputId": "2cc3b577-ace3-43a2-aa1e-1d81066528e7"
      },
      "outputs": [
        {
          "output_type": "execute_result",
          "data": {
            "text/plain": [
              "11"
            ]
          },
          "metadata": {},
          "execution_count": 69
        }
      ],
      "source": [
        "#Check the number of IDs\n",
        "len(IDs)"
      ],
      "id": "28cd8ce6"
    },
    {
      "cell_type": "markdown",
      "metadata": {
        "id": "NKP6Yoto6eqP"
      },
      "source": [
        "With the IDs ready, you need to assign the IDs to the employees.\n",
        "\n",
        "📌 Use the zip() function to pair the employee with the ID.\n",
        "\n",
        "📌 Convert the zip object into a dictionary."
      ],
      "id": "NKP6Yoto6eqP"
    },
    {
      "cell_type": "code",
      "execution_count": 71,
      "metadata": {
        "id": "7e56a43f",
        "colab": {
          "base_uri": "https://localhost:8080/"
        },
        "outputId": "6bbf1665-afe8-49b2-a141-efd5e027c387"
      },
      "outputs": [
        {
          "output_type": "execute_result",
          "data": {
            "text/plain": [
              "{0: 'Ben',\n",
              " 1: 'Omer',\n",
              " 2: 'Karen',\n",
              " 3: 'Celine',\n",
              " 4: 'Sue',\n",
              " 5: 'Bora',\n",
              " 6: 'Rose',\n",
              " 7: 'Ellen',\n",
              " 8: 'Bob',\n",
              " 9: 'Taylor,',\n",
              " 10: 'Jude'}"
            ]
          },
          "metadata": {},
          "execution_count": 71
        }
      ],
      "source": [
        "#Pair the names with the IDs in a dictionary\n",
        "dictionary1=dict(zip(IDs,names))\n",
        "dictionary1"
      ],
      "id": "7e56a43f"
    },
    {
      "cell_type": "markdown",
      "metadata": {
        "id": "429d7b7f"
      },
      "source": [
        "Similarly, create a dictionary for the  employees and their revenues."
      ],
      "id": "429d7b7f"
    },
    {
      "cell_type": "code",
      "execution_count": 72,
      "metadata": {
        "id": "aa2c6560",
        "colab": {
          "base_uri": "https://localhost:8080/"
        },
        "outputId": "4614797b-5eab-4736-dbff-3da4726d8307"
      },
      "outputs": [
        {
          "output_type": "execute_result",
          "data": {
            "text/plain": [
              "{60: 'Omer',\n",
              " 500: 'Jude',\n",
              " 770: 'Bora',\n",
              " 800: 'Bob',\n",
              " 1200: 'Taylor,',\n",
              " 2275: 'Celine',\n",
              " 2400: 'Ben',\n",
              " 4000: 'Rose',\n",
              " 6000: 'Ellen',\n",
              " 12000: 'Karen'}"
            ]
          },
          "metadata": {},
          "execution_count": 72
        }
      ],
      "source": [
        "#Pair the names with the revenues\n",
        "dictionary2=dict(zip(revenues,names))\n",
        "dictionary2"
      ],
      "id": "aa2c6560"
    },
    {
      "cell_type": "markdown",
      "metadata": {
        "id": "Ou3ne5Vn76N_"
      },
      "source": [
        "Finally, you need to find the employees with the best and lowest performance.\n",
        "\n",
        "📌 Sort the dictionary using the sorted() function in ascending and descending order.\n"
      ],
      "id": "Ou3ne5Vn76N_"
    },
    {
      "cell_type": "code",
      "execution_count": 74,
      "metadata": {
        "id": "d348a929",
        "colab": {
          "base_uri": "https://localhost:8080/"
        },
        "outputId": "77866be8-d842-4a06-dc99-81a702274b6e"
      },
      "outputs": [
        {
          "output_type": "stream",
          "name": "stdout",
          "text": [
            "Omer\n",
            "Jude\n",
            "Bora\n"
          ]
        }
      ],
      "source": [
        "#Find the lowest performing employees (ascending order)\n",
        "sorted_dictionary=sorted(dictionary2)[0:3]\n",
        "\n",
        "for i in sorted_dictionary:\n",
        "  print(dictionary2[i])"
      ],
      "id": "d348a929"
    },
    {
      "cell_type": "code",
      "execution_count": 76,
      "metadata": {
        "id": "3210f1ad",
        "colab": {
          "base_uri": "https://localhost:8080/"
        },
        "outputId": "71c35bca-2d4c-411a-bb06-527e3e03624e"
      },
      "outputs": [
        {
          "output_type": "stream",
          "name": "stdout",
          "text": [
            "Karen\n",
            "Ellen\n",
            "Rose\n"
          ]
        }
      ],
      "source": [
        "#Find the best performing employees (descending order)\n",
        "sorted_dictionary=sorted(dictionary2,reverse=True)[0:3]\n",
        "\n",
        "for i in sorted_dictionary:\n",
        "  print(dictionary2[i])"
      ],
      "id": "3210f1ad"
    },
    {
      "cell_type": "code",
      "source": [
        "print(\"cabcdefcdghcdc\".strip(\"c\"))"
      ],
      "metadata": {
        "colab": {
          "base_uri": "https://localhost:8080/"
        },
        "id": "5V_xY4G8tPI7",
        "outputId": "7d241ed6-2636-465c-d793-48a7cc67262f"
      },
      "id": "5V_xY4G8tPI7",
      "execution_count": 85,
      "outputs": [
        {
          "output_type": "stream",
          "name": "stdout",
          "text": [
            "abcdefcdghcd\n"
          ]
        }
      ]
    }
  ],
  "metadata": {
    "colab": {
      "collapsed_sections": [],
      "name": "Guided_project_3.ipynb",
      "provenance": [],
      "include_colab_link": true
    },
    "kernelspec": {
      "display_name": "Python 3",
      "language": "python",
      "name": "python3"
    },
    "language_info": {
      "codemirror_mode": {
        "name": "ipython",
        "version": 3
      },
      "file_extension": ".py",
      "mimetype": "text/x-python",
      "name": "python",
      "nbconvert_exporter": "python",
      "pygments_lexer": "ipython3",
      "version": "3.8.8"
    }
  },
  "nbformat": 4,
  "nbformat_minor": 5
}