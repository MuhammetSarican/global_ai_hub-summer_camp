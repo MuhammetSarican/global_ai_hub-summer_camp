{
  "cells": [
    {
      "cell_type": "markdown",
      "metadata": {
        "id": "view-in-github",
        "colab_type": "text"
      },
      "source": [
        "<a href=\"https://colab.research.google.com/github/MuhammetSarican/global_ai_hub-summer_camp/blob/main/Project_2-Transfer_Learning/Training_Model.ipynb\" target=\"_parent\"><img src=\"https://colab.research.google.com/assets/colab-badge.svg\" alt=\"Open In Colab\"/></a>"
      ]
    },
    {
      "cell_type": "markdown",
      "source": [
        "#Transfer Learning Projesi Model Eğitimi"
      ],
      "metadata": {
        "id": "Bhwsy8Yv6Kgc"
      },
      "id": "Bhwsy8Yv6Kgc"
    },
    {
      "cell_type": "markdown",
      "source": [
        "Bu kısımda drive bağlantısı yapılmaktadır.\n",
        "\n",
        "---"
      ],
      "metadata": {
        "id": "4G-AHqXl6WoF"
      },
      "id": "4G-AHqXl6WoF"
    },
    {
      "cell_type": "code",
      "source": [
        "from google.colab import drive\n",
        "drive.mount('/content/drive')"
      ],
      "metadata": {
        "colab": {
          "base_uri": "https://localhost:8080/"
        },
        "id": "JChm9vc5nZyj",
        "outputId": "8db2e906-7c74-4a85-91de-dcae7a34283c"
      },
      "id": "JChm9vc5nZyj",
      "execution_count": 2,
      "outputs": [
        {
          "output_type": "stream",
          "name": "stdout",
          "text": [
            "Drive already mounted at /content/drive; to attempt to forcibly remount, call drive.mount(\"/content/drive\", force_remount=True).\n"
          ]
        }
      ]
    },
    {
      "cell_type": "markdown",
      "source": [
        "Bu kısımda gerekli kütüphaneler ve değişkenler oluşturulmaktadır.\n",
        "\n",
        "---"
      ],
      "metadata": {
        "id": "zU27Snml6eyI"
      },
      "id": "zU27Snml6eyI"
    },
    {
      "cell_type": "code",
      "execution_count": 1,
      "id": "32b9c13c",
      "metadata": {
        "id": "32b9c13c"
      },
      "outputs": [],
      "source": [
        "import os\n",
        "import cv2\n",
        "from tensorflow.keras.utils import img_to_array\n",
        "from matplotlib import pyplot as plt\n",
        "import numpy as np\n",
        "\n",
        "data=[]\n",
        "data_test=[]\n",
        "label=np.zeros((19958,2))\n",
        "label_test=np.zeros((4988,2))\n",
        "resize=150\n",
        "count=0\n",
        "count_test=0"
      ]
    },
    {
      "cell_type": "markdown",
      "source": [
        "Bu kısımda drive bulunan datasetlerin yolu bir değişkene atanmaktadır.\n",
        "\n",
        "---"
      ],
      "metadata": {
        "id": "aL1mN2XJ6oyC"
      },
      "id": "aL1mN2XJ6oyC"
    },
    {
      "cell_type": "code",
      "source": [
        "dataset_path=\"/content/drive/MyDrive/Datasets/\""
      ],
      "metadata": {
        "id": "OoHp1_INnYP7"
      },
      "id": "OoHp1_INnYP7",
      "execution_count": 2,
      "outputs": []
    },
    {
      "cell_type": "markdown",
      "source": [
        "Burada datasetler driveden alınarak değişkenlere atılmaktadır.\n",
        "\n",
        "---"
      ],
      "metadata": {
        "id": "gfWbSZh_6xJw"
      },
      "id": "gfWbSZh_6xJw"
    },
    {
      "cell_type": "code",
      "execution_count": 4,
      "id": "b19443b4",
      "metadata": {
        "scrolled": true,
        "colab": {
          "base_uri": "https://localhost:8080/"
        },
        "id": "b19443b4",
        "outputId": "3cc92fe5-1b9e-4128-ff56-bccad35e68b1"
      },
      "outputs": [
        {
          "output_type": "stream",
          "name": "stdout",
          "text": [
            "\n",
            "\n",
            "\n",
            "Validation data: (4988, 150, 150, 3)\n",
            "Validation label: (4988, 2)\n",
            "\n"
          ]
        }
      ],
      "source": [
        "# X_train=np.load(f\"{dataset_path}CatAndDog_X_train_{resize}_29-Aug-2022.npy\")\n",
        "# y_train=np.load(f\"{dataset_path}CatAndDog_y_train_{resize}_29-Aug-2022.npy\")\n",
        "\n",
        "# X_test=np.load(f\"{dataset_path}CatAndDog_X_test_{resize}_29-Aug-2022.npy\")\n",
        "# y_test=np.load(f\"{dataset_path}CatAndDog_y_test_{resize}_29-Aug-2022.npy\")\n",
        "\n",
        "X_val=np.load(f\"{dataset_path}CatAndDog_data_validation_{resize}_29-Aug-2022.npy\")\n",
        "y_val=np.load(f\"{dataset_path}CatAndDog_label_validation_{resize}_29-Aug-2022.npy\")\n",
        "print(f\"\"\"\n",
        "Train data: {X_train.shape}\n",
        "Train label: {y_train.shape}\n",
        "\n",
        "Test data: {X_test.shape}\n",
        "Test label: {y_test.shape}\n",
        "\n",
        "Validation data: {X_val.shape}\n",
        "Validation label: {y_val.shape}\n",
        "\"\"\")"
      ]
    },
    {
      "cell_type": "markdown",
      "source": [
        "Burada ise model eğitimi için gerekli olan kütüphanelerin içe aktarımı yapılmaktadır.\n",
        "\n",
        "\n",
        "---"
      ],
      "metadata": {
        "id": "V1QzqMPa69Pm"
      },
      "id": "V1QzqMPa69Pm"
    },
    {
      "cell_type": "code",
      "execution_count": 5,
      "id": "1e2f6f7f",
      "metadata": {
        "id": "1e2f6f7f"
      },
      "outputs": [],
      "source": [
        "from keras.models import Sequential\n",
        "from keras.callbacks import ModelCheckpoint\n",
        "\n",
        "from keras.wrappers.scikit_learn import KerasClassifier\n",
        "from sklearn.model_selection import cross_val_score\n",
        "from keras.layers import Dense\n",
        "\n",
        "from keras.layers.convolutional import Conv2D\n",
        "from keras.layers.convolutional import MaxPooling2D\n",
        "from keras.layers.core import Activation\n",
        "from keras.layers import Dense, Dropout, Flatten, Conv2D, MaxPool2D\n",
        "from keras import backend as K\n",
        "from sklearn.metrics import confusion_matrix\n",
        "import itertools\n",
        "\n",
        "from keras.utils.np_utils import to_categorical # convert to one-hot-encoding\n",
        "from keras.optimizers import adam_v2 as Adam\n",
        "from keras.preprocessing.image import ImageDataGenerator\n",
        "from keras.callbacks import ReduceLROnPlateau\n",
        "import seaborn as sns \n",
        "import tensorflow as tf\n",
        "\n",
        "# import warnings\n",
        "import warnings\n",
        "# filter warnings\n",
        "warnings.filterwarnings('ignore')"
      ]
    },
    {
      "cell_type": "markdown",
      "source": [
        "Bu kısım transfer learning için gerekli olan kütüphanelerin içe aktarımı yapılmaktadır.\n",
        "\n",
        "Transfer learning: Transfer learning bir modelin daha öncesinde doğru parametrelerde eğitilerek belirli ağırlıklara ulaştırılması sağlanır ve bu ağırlıklara sahip model benzer projelerde kullanılarak sıfırdan model oluşturma işleminin önüne geçer.\n",
        "\n",
        "---"
      ],
      "metadata": {
        "id": "MV3EZYCW7Iuw"
      },
      "id": "MV3EZYCW7Iuw"
    },
    {
      "cell_type": "code",
      "execution_count": 7,
      "id": "e3f6862e",
      "metadata": {
        "id": "e3f6862e"
      },
      "outputs": [],
      "source": [
        "from keras.models import Model\n",
        "from tensorflow.compat.v1.keras.backend import set_session\n",
        "from keras.applications import xception\n",
        "\n",
        "from keras.layers import Input\n"
      ]
    },
    {
      "cell_type": "markdown",
      "source": [
        "Burada hazır modelimizi base_model değişkenine atıyoruz.\n",
        "\n",
        "Not: bu kısımda include_top değişkenini False olarak kullanıyoruz çünkü bizim 2 tane sınıfımız var ve output layerımızı kendimiz oluşturmalıyız.\n",
        "\n",
        "---"
      ],
      "metadata": {
        "id": "G6GPiRie8BF5"
      },
      "id": "G6GPiRie8BF5"
    },
    {
      "cell_type": "code",
      "execution_count": 8,
      "id": "76e33f33",
      "metadata": {
        "id": "76e33f33"
      },
      "outputs": [],
      "source": [
        "input_tensor=Input(shape=(resize,resize,3))\n",
        "\n",
        "base_model=tf.keras.applications.EfficientNetB2(\n",
        "    include_top=False, \n",
        "    weights=\"imagenet\",\n",
        "    input_shape=(resize,resize,3),\n",
        "    pooling=\"avg\",\n",
        " )"
      ]
    },
    {
      "cell_type": "markdown",
      "source": [
        "Output layer oluşturulur.\n",
        "\n",
        "---"
      ],
      "metadata": {
        "id": "DnMSXNOO8g0v"
      },
      "id": "DnMSXNOO8g0v"
    },
    {
      "cell_type": "code",
      "execution_count": 9,
      "id": "7712ee87",
      "metadata": {
        "id": "7712ee87"
      },
      "outputs": [],
      "source": [
        "top_model = Sequential() \n",
        "top_model.add(Dense(2, activation = \"softmax\"))\n",
        "model=Model(inputs=base_model.input,outputs=top_model(base_model.output))"
      ]
    },
    {
      "cell_type": "markdown",
      "source": [
        "summary() methodu modelimizin yapısını gösterir.\n",
        "\n",
        "---"
      ],
      "metadata": {
        "id": "kwuqYcuh8nb8"
      },
      "id": "kwuqYcuh8nb8"
    },
    {
      "cell_type": "code",
      "execution_count": 10,
      "id": "0d52ba9c",
      "metadata": {
        "colab": {
          "base_uri": "https://localhost:8080/"
        },
        "id": "0d52ba9c",
        "outputId": "e52c8e00-a8ec-4760-d868-4a96836e4561"
      },
      "outputs": [
        {
          "output_type": "stream",
          "name": "stdout",
          "text": [
            "Model: \"model\"\n",
            "__________________________________________________________________________________________________\n",
            " Layer (type)                   Output Shape         Param #     Connected to                     \n",
            "==================================================================================================\n",
            " input_2 (InputLayer)           [(None, 150, 150, 3  0           []                               \n",
            "                                )]                                                                \n",
            "                                                                                                  \n",
            " rescaling (Rescaling)          (None, 150, 150, 3)  0           ['input_2[0][0]']                \n",
            "                                                                                                  \n",
            " normalization (Normalization)  (None, 150, 150, 3)  7           ['rescaling[0][0]']              \n",
            "                                                                                                  \n",
            " stem_conv_pad (ZeroPadding2D)  (None, 151, 151, 3)  0           ['normalization[0][0]']          \n",
            "                                                                                                  \n",
            " stem_conv (Conv2D)             (None, 75, 75, 32)   864         ['stem_conv_pad[0][0]']          \n",
            "                                                                                                  \n",
            " stem_bn (BatchNormalization)   (None, 75, 75, 32)   128         ['stem_conv[0][0]']              \n",
            "                                                                                                  \n",
            " stem_activation (Activation)   (None, 75, 75, 32)   0           ['stem_bn[0][0]']                \n",
            "                                                                                                  \n",
            " block1a_dwconv (DepthwiseConv2  (None, 75, 75, 32)  288         ['stem_activation[0][0]']        \n",
            " D)                                                                                               \n",
            "                                                                                                  \n",
            " block1a_bn (BatchNormalization  (None, 75, 75, 32)  128         ['block1a_dwconv[0][0]']         \n",
            " )                                                                                                \n",
            "                                                                                                  \n",
            " block1a_activation (Activation  (None, 75, 75, 32)  0           ['block1a_bn[0][0]']             \n",
            " )                                                                                                \n",
            "                                                                                                  \n",
            " block1a_se_squeeze (GlobalAver  (None, 32)          0           ['block1a_activation[0][0]']     \n",
            " agePooling2D)                                                                                    \n",
            "                                                                                                  \n",
            " block1a_se_reshape (Reshape)   (None, 1, 1, 32)     0           ['block1a_se_squeeze[0][0]']     \n",
            "                                                                                                  \n",
            " block1a_se_reduce (Conv2D)     (None, 1, 1, 8)      264         ['block1a_se_reshape[0][0]']     \n",
            "                                                                                                  \n",
            " block1a_se_expand (Conv2D)     (None, 1, 1, 32)     288         ['block1a_se_reduce[0][0]']      \n",
            "                                                                                                  \n",
            " block1a_se_excite (Multiply)   (None, 75, 75, 32)   0           ['block1a_activation[0][0]',     \n",
            "                                                                  'block1a_se_expand[0][0]']      \n",
            "                                                                                                  \n",
            " block1a_project_conv (Conv2D)  (None, 75, 75, 16)   512         ['block1a_se_excite[0][0]']      \n",
            "                                                                                                  \n",
            " block1a_project_bn (BatchNorma  (None, 75, 75, 16)  64          ['block1a_project_conv[0][0]']   \n",
            " lization)                                                                                        \n",
            "                                                                                                  \n",
            " block1b_dwconv (DepthwiseConv2  (None, 75, 75, 16)  144         ['block1a_project_bn[0][0]']     \n",
            " D)                                                                                               \n",
            "                                                                                                  \n",
            " block1b_bn (BatchNormalization  (None, 75, 75, 16)  64          ['block1b_dwconv[0][0]']         \n",
            " )                                                                                                \n",
            "                                                                                                  \n",
            " block1b_activation (Activation  (None, 75, 75, 16)  0           ['block1b_bn[0][0]']             \n",
            " )                                                                                                \n",
            "                                                                                                  \n",
            " block1b_se_squeeze (GlobalAver  (None, 16)          0           ['block1b_activation[0][0]']     \n",
            " agePooling2D)                                                                                    \n",
            "                                                                                                  \n",
            " block1b_se_reshape (Reshape)   (None, 1, 1, 16)     0           ['block1b_se_squeeze[0][0]']     \n",
            "                                                                                                  \n",
            " block1b_se_reduce (Conv2D)     (None, 1, 1, 4)      68          ['block1b_se_reshape[0][0]']     \n",
            "                                                                                                  \n",
            " block1b_se_expand (Conv2D)     (None, 1, 1, 16)     80          ['block1b_se_reduce[0][0]']      \n",
            "                                                                                                  \n",
            " block1b_se_excite (Multiply)   (None, 75, 75, 16)   0           ['block1b_activation[0][0]',     \n",
            "                                                                  'block1b_se_expand[0][0]']      \n",
            "                                                                                                  \n",
            " block1b_project_conv (Conv2D)  (None, 75, 75, 16)   256         ['block1b_se_excite[0][0]']      \n",
            "                                                                                                  \n",
            " block1b_project_bn (BatchNorma  (None, 75, 75, 16)  64          ['block1b_project_conv[0][0]']   \n",
            " lization)                                                                                        \n",
            "                                                                                                  \n",
            " block1b_drop (Dropout)         (None, 75, 75, 16)   0           ['block1b_project_bn[0][0]']     \n",
            "                                                                                                  \n",
            " block1b_add (Add)              (None, 75, 75, 16)   0           ['block1b_drop[0][0]',           \n",
            "                                                                  'block1a_project_bn[0][0]']     \n",
            "                                                                                                  \n",
            " block2a_expand_conv (Conv2D)   (None, 75, 75, 96)   1536        ['block1b_add[0][0]']            \n",
            "                                                                                                  \n",
            " block2a_expand_bn (BatchNormal  (None, 75, 75, 96)  384         ['block2a_expand_conv[0][0]']    \n",
            " ization)                                                                                         \n",
            "                                                                                                  \n",
            " block2a_expand_activation (Act  (None, 75, 75, 96)  0           ['block2a_expand_bn[0][0]']      \n",
            " ivation)                                                                                         \n",
            "                                                                                                  \n",
            " block2a_dwconv_pad (ZeroPaddin  (None, 77, 77, 96)  0           ['block2a_expand_activation[0][0]\n",
            " g2D)                                                            ']                               \n",
            "                                                                                                  \n",
            " block2a_dwconv (DepthwiseConv2  (None, 38, 38, 96)  864         ['block2a_dwconv_pad[0][0]']     \n",
            " D)                                                                                               \n",
            "                                                                                                  \n",
            " block2a_bn (BatchNormalization  (None, 38, 38, 96)  384         ['block2a_dwconv[0][0]']         \n",
            " )                                                                                                \n",
            "                                                                                                  \n",
            " block2a_activation (Activation  (None, 38, 38, 96)  0           ['block2a_bn[0][0]']             \n",
            " )                                                                                                \n",
            "                                                                                                  \n",
            " block2a_se_squeeze (GlobalAver  (None, 96)          0           ['block2a_activation[0][0]']     \n",
            " agePooling2D)                                                                                    \n",
            "                                                                                                  \n",
            " block2a_se_reshape (Reshape)   (None, 1, 1, 96)     0           ['block2a_se_squeeze[0][0]']     \n",
            "                                                                                                  \n",
            " block2a_se_reduce (Conv2D)     (None, 1, 1, 4)      388         ['block2a_se_reshape[0][0]']     \n",
            "                                                                                                  \n",
            " block2a_se_expand (Conv2D)     (None, 1, 1, 96)     480         ['block2a_se_reduce[0][0]']      \n",
            "                                                                                                  \n",
            " block2a_se_excite (Multiply)   (None, 38, 38, 96)   0           ['block2a_activation[0][0]',     \n",
            "                                                                  'block2a_se_expand[0][0]']      \n",
            "                                                                                                  \n",
            " block2a_project_conv (Conv2D)  (None, 38, 38, 24)   2304        ['block2a_se_excite[0][0]']      \n",
            "                                                                                                  \n",
            " block2a_project_bn (BatchNorma  (None, 38, 38, 24)  96          ['block2a_project_conv[0][0]']   \n",
            " lization)                                                                                        \n",
            "                                                                                                  \n",
            " block2b_expand_conv (Conv2D)   (None, 38, 38, 144)  3456        ['block2a_project_bn[0][0]']     \n",
            "                                                                                                  \n",
            " block2b_expand_bn (BatchNormal  (None, 38, 38, 144)  576        ['block2b_expand_conv[0][0]']    \n",
            " ization)                                                                                         \n",
            "                                                                                                  \n",
            " block2b_expand_activation (Act  (None, 38, 38, 144)  0          ['block2b_expand_bn[0][0]']      \n",
            " ivation)                                                                                         \n",
            "                                                                                                  \n",
            " block2b_dwconv (DepthwiseConv2  (None, 38, 38, 144)  1296       ['block2b_expand_activation[0][0]\n",
            " D)                                                              ']                               \n",
            "                                                                                                  \n",
            " block2b_bn (BatchNormalization  (None, 38, 38, 144)  576        ['block2b_dwconv[0][0]']         \n",
            " )                                                                                                \n",
            "                                                                                                  \n",
            " block2b_activation (Activation  (None, 38, 38, 144)  0          ['block2b_bn[0][0]']             \n",
            " )                                                                                                \n",
            "                                                                                                  \n",
            " block2b_se_squeeze (GlobalAver  (None, 144)         0           ['block2b_activation[0][0]']     \n",
            " agePooling2D)                                                                                    \n",
            "                                                                                                  \n",
            " block2b_se_reshape (Reshape)   (None, 1, 1, 144)    0           ['block2b_se_squeeze[0][0]']     \n",
            "                                                                                                  \n",
            " block2b_se_reduce (Conv2D)     (None, 1, 1, 6)      870         ['block2b_se_reshape[0][0]']     \n",
            "                                                                                                  \n",
            " block2b_se_expand (Conv2D)     (None, 1, 1, 144)    1008        ['block2b_se_reduce[0][0]']      \n",
            "                                                                                                  \n",
            " block2b_se_excite (Multiply)   (None, 38, 38, 144)  0           ['block2b_activation[0][0]',     \n",
            "                                                                  'block2b_se_expand[0][0]']      \n",
            "                                                                                                  \n",
            " block2b_project_conv (Conv2D)  (None, 38, 38, 24)   3456        ['block2b_se_excite[0][0]']      \n",
            "                                                                                                  \n",
            " block2b_project_bn (BatchNorma  (None, 38, 38, 24)  96          ['block2b_project_conv[0][0]']   \n",
            " lization)                                                                                        \n",
            "                                                                                                  \n",
            " block2b_drop (Dropout)         (None, 38, 38, 24)   0           ['block2b_project_bn[0][0]']     \n",
            "                                                                                                  \n",
            " block2b_add (Add)              (None, 38, 38, 24)   0           ['block2b_drop[0][0]',           \n",
            "                                                                  'block2a_project_bn[0][0]']     \n",
            "                                                                                                  \n",
            " block2c_expand_conv (Conv2D)   (None, 38, 38, 144)  3456        ['block2b_add[0][0]']            \n",
            "                                                                                                  \n",
            " block2c_expand_bn (BatchNormal  (None, 38, 38, 144)  576        ['block2c_expand_conv[0][0]']    \n",
            " ization)                                                                                         \n",
            "                                                                                                  \n",
            " block2c_expand_activation (Act  (None, 38, 38, 144)  0          ['block2c_expand_bn[0][0]']      \n",
            " ivation)                                                                                         \n",
            "                                                                                                  \n",
            " block2c_dwconv (DepthwiseConv2  (None, 38, 38, 144)  1296       ['block2c_expand_activation[0][0]\n",
            " D)                                                              ']                               \n",
            "                                                                                                  \n",
            " block2c_bn (BatchNormalization  (None, 38, 38, 144)  576        ['block2c_dwconv[0][0]']         \n",
            " )                                                                                                \n",
            "                                                                                                  \n",
            " block2c_activation (Activation  (None, 38, 38, 144)  0          ['block2c_bn[0][0]']             \n",
            " )                                                                                                \n",
            "                                                                                                  \n",
            " block2c_se_squeeze (GlobalAver  (None, 144)         0           ['block2c_activation[0][0]']     \n",
            " agePooling2D)                                                                                    \n",
            "                                                                                                  \n",
            " block2c_se_reshape (Reshape)   (None, 1, 1, 144)    0           ['block2c_se_squeeze[0][0]']     \n",
            "                                                                                                  \n",
            " block2c_se_reduce (Conv2D)     (None, 1, 1, 6)      870         ['block2c_se_reshape[0][0]']     \n",
            "                                                                                                  \n",
            " block2c_se_expand (Conv2D)     (None, 1, 1, 144)    1008        ['block2c_se_reduce[0][0]']      \n",
            "                                                                                                  \n",
            " block2c_se_excite (Multiply)   (None, 38, 38, 144)  0           ['block2c_activation[0][0]',     \n",
            "                                                                  'block2c_se_expand[0][0]']      \n",
            "                                                                                                  \n",
            " block2c_project_conv (Conv2D)  (None, 38, 38, 24)   3456        ['block2c_se_excite[0][0]']      \n",
            "                                                                                                  \n",
            " block2c_project_bn (BatchNorma  (None, 38, 38, 24)  96          ['block2c_project_conv[0][0]']   \n",
            " lization)                                                                                        \n",
            "                                                                                                  \n",
            " block2c_drop (Dropout)         (None, 38, 38, 24)   0           ['block2c_project_bn[0][0]']     \n",
            "                                                                                                  \n",
            " block2c_add (Add)              (None, 38, 38, 24)   0           ['block2c_drop[0][0]',           \n",
            "                                                                  'block2b_add[0][0]']            \n",
            "                                                                                                  \n",
            " block3a_expand_conv (Conv2D)   (None, 38, 38, 144)  3456        ['block2c_add[0][0]']            \n",
            "                                                                                                  \n",
            " block3a_expand_bn (BatchNormal  (None, 38, 38, 144)  576        ['block3a_expand_conv[0][0]']    \n",
            " ization)                                                                                         \n",
            "                                                                                                  \n",
            " block3a_expand_activation (Act  (None, 38, 38, 144)  0          ['block3a_expand_bn[0][0]']      \n",
            " ivation)                                                                                         \n",
            "                                                                                                  \n",
            " block3a_dwconv_pad (ZeroPaddin  (None, 41, 41, 144)  0          ['block3a_expand_activation[0][0]\n",
            " g2D)                                                            ']                               \n",
            "                                                                                                  \n",
            " block3a_dwconv (DepthwiseConv2  (None, 19, 19, 144)  3600       ['block3a_dwconv_pad[0][0]']     \n",
            " D)                                                                                               \n",
            "                                                                                                  \n",
            " block3a_bn (BatchNormalization  (None, 19, 19, 144)  576        ['block3a_dwconv[0][0]']         \n",
            " )                                                                                                \n",
            "                                                                                                  \n",
            " block3a_activation (Activation  (None, 19, 19, 144)  0          ['block3a_bn[0][0]']             \n",
            " )                                                                                                \n",
            "                                                                                                  \n",
            " block3a_se_squeeze (GlobalAver  (None, 144)         0           ['block3a_activation[0][0]']     \n",
            " agePooling2D)                                                                                    \n",
            "                                                                                                  \n",
            " block3a_se_reshape (Reshape)   (None, 1, 1, 144)    0           ['block3a_se_squeeze[0][0]']     \n",
            "                                                                                                  \n",
            " block3a_se_reduce (Conv2D)     (None, 1, 1, 6)      870         ['block3a_se_reshape[0][0]']     \n",
            "                                                                                                  \n",
            " block3a_se_expand (Conv2D)     (None, 1, 1, 144)    1008        ['block3a_se_reduce[0][0]']      \n",
            "                                                                                                  \n",
            " block3a_se_excite (Multiply)   (None, 19, 19, 144)  0           ['block3a_activation[0][0]',     \n",
            "                                                                  'block3a_se_expand[0][0]']      \n",
            "                                                                                                  \n",
            " block3a_project_conv (Conv2D)  (None, 19, 19, 48)   6912        ['block3a_se_excite[0][0]']      \n",
            "                                                                                                  \n",
            " block3a_project_bn (BatchNorma  (None, 19, 19, 48)  192         ['block3a_project_conv[0][0]']   \n",
            " lization)                                                                                        \n",
            "                                                                                                  \n",
            " block3b_expand_conv (Conv2D)   (None, 19, 19, 288)  13824       ['block3a_project_bn[0][0]']     \n",
            "                                                                                                  \n",
            " block3b_expand_bn (BatchNormal  (None, 19, 19, 288)  1152       ['block3b_expand_conv[0][0]']    \n",
            " ization)                                                                                         \n",
            "                                                                                                  \n",
            " block3b_expand_activation (Act  (None, 19, 19, 288)  0          ['block3b_expand_bn[0][0]']      \n",
            " ivation)                                                                                         \n",
            "                                                                                                  \n",
            " block3b_dwconv (DepthwiseConv2  (None, 19, 19, 288)  7200       ['block3b_expand_activation[0][0]\n",
            " D)                                                              ']                               \n",
            "                                                                                                  \n",
            " block3b_bn (BatchNormalization  (None, 19, 19, 288)  1152       ['block3b_dwconv[0][0]']         \n",
            " )                                                                                                \n",
            "                                                                                                  \n",
            " block3b_activation (Activation  (None, 19, 19, 288)  0          ['block3b_bn[0][0]']             \n",
            " )                                                                                                \n",
            "                                                                                                  \n",
            " block3b_se_squeeze (GlobalAver  (None, 288)         0           ['block3b_activation[0][0]']     \n",
            " agePooling2D)                                                                                    \n",
            "                                                                                                  \n",
            " block3b_se_reshape (Reshape)   (None, 1, 1, 288)    0           ['block3b_se_squeeze[0][0]']     \n",
            "                                                                                                  \n",
            " block3b_se_reduce (Conv2D)     (None, 1, 1, 12)     3468        ['block3b_se_reshape[0][0]']     \n",
            "                                                                                                  \n",
            " block3b_se_expand (Conv2D)     (None, 1, 1, 288)    3744        ['block3b_se_reduce[0][0]']      \n",
            "                                                                                                  \n",
            " block3b_se_excite (Multiply)   (None, 19, 19, 288)  0           ['block3b_activation[0][0]',     \n",
            "                                                                  'block3b_se_expand[0][0]']      \n",
            "                                                                                                  \n",
            " block3b_project_conv (Conv2D)  (None, 19, 19, 48)   13824       ['block3b_se_excite[0][0]']      \n",
            "                                                                                                  \n",
            " block3b_project_bn (BatchNorma  (None, 19, 19, 48)  192         ['block3b_project_conv[0][0]']   \n",
            " lization)                                                                                        \n",
            "                                                                                                  \n",
            " block3b_drop (Dropout)         (None, 19, 19, 48)   0           ['block3b_project_bn[0][0]']     \n",
            "                                                                                                  \n",
            " block3b_add (Add)              (None, 19, 19, 48)   0           ['block3b_drop[0][0]',           \n",
            "                                                                  'block3a_project_bn[0][0]']     \n",
            "                                                                                                  \n",
            " block3c_expand_conv (Conv2D)   (None, 19, 19, 288)  13824       ['block3b_add[0][0]']            \n",
            "                                                                                                  \n",
            " block3c_expand_bn (BatchNormal  (None, 19, 19, 288)  1152       ['block3c_expand_conv[0][0]']    \n",
            " ization)                                                                                         \n",
            "                                                                                                  \n",
            " block3c_expand_activation (Act  (None, 19, 19, 288)  0          ['block3c_expand_bn[0][0]']      \n",
            " ivation)                                                                                         \n",
            "                                                                                                  \n",
            " block3c_dwconv (DepthwiseConv2  (None, 19, 19, 288)  7200       ['block3c_expand_activation[0][0]\n",
            " D)                                                              ']                               \n",
            "                                                                                                  \n",
            " block3c_bn (BatchNormalization  (None, 19, 19, 288)  1152       ['block3c_dwconv[0][0]']         \n",
            " )                                                                                                \n",
            "                                                                                                  \n",
            " block3c_activation (Activation  (None, 19, 19, 288)  0          ['block3c_bn[0][0]']             \n",
            " )                                                                                                \n",
            "                                                                                                  \n",
            " block3c_se_squeeze (GlobalAver  (None, 288)         0           ['block3c_activation[0][0]']     \n",
            " agePooling2D)                                                                                    \n",
            "                                                                                                  \n",
            " block3c_se_reshape (Reshape)   (None, 1, 1, 288)    0           ['block3c_se_squeeze[0][0]']     \n",
            "                                                                                                  \n",
            " block3c_se_reduce (Conv2D)     (None, 1, 1, 12)     3468        ['block3c_se_reshape[0][0]']     \n",
            "                                                                                                  \n",
            " block3c_se_expand (Conv2D)     (None, 1, 1, 288)    3744        ['block3c_se_reduce[0][0]']      \n",
            "                                                                                                  \n",
            " block3c_se_excite (Multiply)   (None, 19, 19, 288)  0           ['block3c_activation[0][0]',     \n",
            "                                                                  'block3c_se_expand[0][0]']      \n",
            "                                                                                                  \n",
            " block3c_project_conv (Conv2D)  (None, 19, 19, 48)   13824       ['block3c_se_excite[0][0]']      \n",
            "                                                                                                  \n",
            " block3c_project_bn (BatchNorma  (None, 19, 19, 48)  192         ['block3c_project_conv[0][0]']   \n",
            " lization)                                                                                        \n",
            "                                                                                                  \n",
            " block3c_drop (Dropout)         (None, 19, 19, 48)   0           ['block3c_project_bn[0][0]']     \n",
            "                                                                                                  \n",
            " block3c_add (Add)              (None, 19, 19, 48)   0           ['block3c_drop[0][0]',           \n",
            "                                                                  'block3b_add[0][0]']            \n",
            "                                                                                                  \n",
            " block4a_expand_conv (Conv2D)   (None, 19, 19, 288)  13824       ['block3c_add[0][0]']            \n",
            "                                                                                                  \n",
            " block4a_expand_bn (BatchNormal  (None, 19, 19, 288)  1152       ['block4a_expand_conv[0][0]']    \n",
            " ization)                                                                                         \n",
            "                                                                                                  \n",
            " block4a_expand_activation (Act  (None, 19, 19, 288)  0          ['block4a_expand_bn[0][0]']      \n",
            " ivation)                                                                                         \n",
            "                                                                                                  \n",
            " block4a_dwconv_pad (ZeroPaddin  (None, 21, 21, 288)  0          ['block4a_expand_activation[0][0]\n",
            " g2D)                                                            ']                               \n",
            "                                                                                                  \n",
            " block4a_dwconv (DepthwiseConv2  (None, 10, 10, 288)  2592       ['block4a_dwconv_pad[0][0]']     \n",
            " D)                                                                                               \n",
            "                                                                                                  \n",
            " block4a_bn (BatchNormalization  (None, 10, 10, 288)  1152       ['block4a_dwconv[0][0]']         \n",
            " )                                                                                                \n",
            "                                                                                                  \n",
            " block4a_activation (Activation  (None, 10, 10, 288)  0          ['block4a_bn[0][0]']             \n",
            " )                                                                                                \n",
            "                                                                                                  \n",
            " block4a_se_squeeze (GlobalAver  (None, 288)         0           ['block4a_activation[0][0]']     \n",
            " agePooling2D)                                                                                    \n",
            "                                                                                                  \n",
            " block4a_se_reshape (Reshape)   (None, 1, 1, 288)    0           ['block4a_se_squeeze[0][0]']     \n",
            "                                                                                                  \n",
            " block4a_se_reduce (Conv2D)     (None, 1, 1, 12)     3468        ['block4a_se_reshape[0][0]']     \n",
            "                                                                                                  \n",
            " block4a_se_expand (Conv2D)     (None, 1, 1, 288)    3744        ['block4a_se_reduce[0][0]']      \n",
            "                                                                                                  \n",
            " block4a_se_excite (Multiply)   (None, 10, 10, 288)  0           ['block4a_activation[0][0]',     \n",
            "                                                                  'block4a_se_expand[0][0]']      \n",
            "                                                                                                  \n",
            " block4a_project_conv (Conv2D)  (None, 10, 10, 88)   25344       ['block4a_se_excite[0][0]']      \n",
            "                                                                                                  \n",
            " block4a_project_bn (BatchNorma  (None, 10, 10, 88)  352         ['block4a_project_conv[0][0]']   \n",
            " lization)                                                                                        \n",
            "                                                                                                  \n",
            " block4b_expand_conv (Conv2D)   (None, 10, 10, 528)  46464       ['block4a_project_bn[0][0]']     \n",
            "                                                                                                  \n",
            " block4b_expand_bn (BatchNormal  (None, 10, 10, 528)  2112       ['block4b_expand_conv[0][0]']    \n",
            " ization)                                                                                         \n",
            "                                                                                                  \n",
            " block4b_expand_activation (Act  (None, 10, 10, 528)  0          ['block4b_expand_bn[0][0]']      \n",
            " ivation)                                                                                         \n",
            "                                                                                                  \n",
            " block4b_dwconv (DepthwiseConv2  (None, 10, 10, 528)  4752       ['block4b_expand_activation[0][0]\n",
            " D)                                                              ']                               \n",
            "                                                                                                  \n",
            " block4b_bn (BatchNormalization  (None, 10, 10, 528)  2112       ['block4b_dwconv[0][0]']         \n",
            " )                                                                                                \n",
            "                                                                                                  \n",
            " block4b_activation (Activation  (None, 10, 10, 528)  0          ['block4b_bn[0][0]']             \n",
            " )                                                                                                \n",
            "                                                                                                  \n",
            " block4b_se_squeeze (GlobalAver  (None, 528)         0           ['block4b_activation[0][0]']     \n",
            " agePooling2D)                                                                                    \n",
            "                                                                                                  \n",
            " block4b_se_reshape (Reshape)   (None, 1, 1, 528)    0           ['block4b_se_squeeze[0][0]']     \n",
            "                                                                                                  \n",
            " block4b_se_reduce (Conv2D)     (None, 1, 1, 22)     11638       ['block4b_se_reshape[0][0]']     \n",
            "                                                                                                  \n",
            " block4b_se_expand (Conv2D)     (None, 1, 1, 528)    12144       ['block4b_se_reduce[0][0]']      \n",
            "                                                                                                  \n",
            " block4b_se_excite (Multiply)   (None, 10, 10, 528)  0           ['block4b_activation[0][0]',     \n",
            "                                                                  'block4b_se_expand[0][0]']      \n",
            "                                                                                                  \n",
            " block4b_project_conv (Conv2D)  (None, 10, 10, 88)   46464       ['block4b_se_excite[0][0]']      \n",
            "                                                                                                  \n",
            " block4b_project_bn (BatchNorma  (None, 10, 10, 88)  352         ['block4b_project_conv[0][0]']   \n",
            " lization)                                                                                        \n",
            "                                                                                                  \n",
            " block4b_drop (Dropout)         (None, 10, 10, 88)   0           ['block4b_project_bn[0][0]']     \n",
            "                                                                                                  \n",
            " block4b_add (Add)              (None, 10, 10, 88)   0           ['block4b_drop[0][0]',           \n",
            "                                                                  'block4a_project_bn[0][0]']     \n",
            "                                                                                                  \n",
            " block4c_expand_conv (Conv2D)   (None, 10, 10, 528)  46464       ['block4b_add[0][0]']            \n",
            "                                                                                                  \n",
            " block4c_expand_bn (BatchNormal  (None, 10, 10, 528)  2112       ['block4c_expand_conv[0][0]']    \n",
            " ization)                                                                                         \n",
            "                                                                                                  \n",
            " block4c_expand_activation (Act  (None, 10, 10, 528)  0          ['block4c_expand_bn[0][0]']      \n",
            " ivation)                                                                                         \n",
            "                                                                                                  \n",
            " block4c_dwconv (DepthwiseConv2  (None, 10, 10, 528)  4752       ['block4c_expand_activation[0][0]\n",
            " D)                                                              ']                               \n",
            "                                                                                                  \n",
            " block4c_bn (BatchNormalization  (None, 10, 10, 528)  2112       ['block4c_dwconv[0][0]']         \n",
            " )                                                                                                \n",
            "                                                                                                  \n",
            " block4c_activation (Activation  (None, 10, 10, 528)  0          ['block4c_bn[0][0]']             \n",
            " )                                                                                                \n",
            "                                                                                                  \n",
            " block4c_se_squeeze (GlobalAver  (None, 528)         0           ['block4c_activation[0][0]']     \n",
            " agePooling2D)                                                                                    \n",
            "                                                                                                  \n",
            " block4c_se_reshape (Reshape)   (None, 1, 1, 528)    0           ['block4c_se_squeeze[0][0]']     \n",
            "                                                                                                  \n",
            " block4c_se_reduce (Conv2D)     (None, 1, 1, 22)     11638       ['block4c_se_reshape[0][0]']     \n",
            "                                                                                                  \n",
            " block4c_se_expand (Conv2D)     (None, 1, 1, 528)    12144       ['block4c_se_reduce[0][0]']      \n",
            "                                                                                                  \n",
            " block4c_se_excite (Multiply)   (None, 10, 10, 528)  0           ['block4c_activation[0][0]',     \n",
            "                                                                  'block4c_se_expand[0][0]']      \n",
            "                                                                                                  \n",
            " block4c_project_conv (Conv2D)  (None, 10, 10, 88)   46464       ['block4c_se_excite[0][0]']      \n",
            "                                                                                                  \n",
            " block4c_project_bn (BatchNorma  (None, 10, 10, 88)  352         ['block4c_project_conv[0][0]']   \n",
            " lization)                                                                                        \n",
            "                                                                                                  \n",
            " block4c_drop (Dropout)         (None, 10, 10, 88)   0           ['block4c_project_bn[0][0]']     \n",
            "                                                                                                  \n",
            " block4c_add (Add)              (None, 10, 10, 88)   0           ['block4c_drop[0][0]',           \n",
            "                                                                  'block4b_add[0][0]']            \n",
            "                                                                                                  \n",
            " block4d_expand_conv (Conv2D)   (None, 10, 10, 528)  46464       ['block4c_add[0][0]']            \n",
            "                                                                                                  \n",
            " block4d_expand_bn (BatchNormal  (None, 10, 10, 528)  2112       ['block4d_expand_conv[0][0]']    \n",
            " ization)                                                                                         \n",
            "                                                                                                  \n",
            " block4d_expand_activation (Act  (None, 10, 10, 528)  0          ['block4d_expand_bn[0][0]']      \n",
            " ivation)                                                                                         \n",
            "                                                                                                  \n",
            " block4d_dwconv (DepthwiseConv2  (None, 10, 10, 528)  4752       ['block4d_expand_activation[0][0]\n",
            " D)                                                              ']                               \n",
            "                                                                                                  \n",
            " block4d_bn (BatchNormalization  (None, 10, 10, 528)  2112       ['block4d_dwconv[0][0]']         \n",
            " )                                                                                                \n",
            "                                                                                                  \n",
            " block4d_activation (Activation  (None, 10, 10, 528)  0          ['block4d_bn[0][0]']             \n",
            " )                                                                                                \n",
            "                                                                                                  \n",
            " block4d_se_squeeze (GlobalAver  (None, 528)         0           ['block4d_activation[0][0]']     \n",
            " agePooling2D)                                                                                    \n",
            "                                                                                                  \n",
            " block4d_se_reshape (Reshape)   (None, 1, 1, 528)    0           ['block4d_se_squeeze[0][0]']     \n",
            "                                                                                                  \n",
            " block4d_se_reduce (Conv2D)     (None, 1, 1, 22)     11638       ['block4d_se_reshape[0][0]']     \n",
            "                                                                                                  \n",
            " block4d_se_expand (Conv2D)     (None, 1, 1, 528)    12144       ['block4d_se_reduce[0][0]']      \n",
            "                                                                                                  \n",
            " block4d_se_excite (Multiply)   (None, 10, 10, 528)  0           ['block4d_activation[0][0]',     \n",
            "                                                                  'block4d_se_expand[0][0]']      \n",
            "                                                                                                  \n",
            " block4d_project_conv (Conv2D)  (None, 10, 10, 88)   46464       ['block4d_se_excite[0][0]']      \n",
            "                                                                                                  \n",
            " block4d_project_bn (BatchNorma  (None, 10, 10, 88)  352         ['block4d_project_conv[0][0]']   \n",
            " lization)                                                                                        \n",
            "                                                                                                  \n",
            " block4d_drop (Dropout)         (None, 10, 10, 88)   0           ['block4d_project_bn[0][0]']     \n",
            "                                                                                                  \n",
            " block4d_add (Add)              (None, 10, 10, 88)   0           ['block4d_drop[0][0]',           \n",
            "                                                                  'block4c_add[0][0]']            \n",
            "                                                                                                  \n",
            " block5a_expand_conv (Conv2D)   (None, 10, 10, 528)  46464       ['block4d_add[0][0]']            \n",
            "                                                                                                  \n",
            " block5a_expand_bn (BatchNormal  (None, 10, 10, 528)  2112       ['block5a_expand_conv[0][0]']    \n",
            " ization)                                                                                         \n",
            "                                                                                                  \n",
            " block5a_expand_activation (Act  (None, 10, 10, 528)  0          ['block5a_expand_bn[0][0]']      \n",
            " ivation)                                                                                         \n",
            "                                                                                                  \n",
            " block5a_dwconv (DepthwiseConv2  (None, 10, 10, 528)  13200      ['block5a_expand_activation[0][0]\n",
            " D)                                                              ']                               \n",
            "                                                                                                  \n",
            " block5a_bn (BatchNormalization  (None, 10, 10, 528)  2112       ['block5a_dwconv[0][0]']         \n",
            " )                                                                                                \n",
            "                                                                                                  \n",
            " block5a_activation (Activation  (None, 10, 10, 528)  0          ['block5a_bn[0][0]']             \n",
            " )                                                                                                \n",
            "                                                                                                  \n",
            " block5a_se_squeeze (GlobalAver  (None, 528)         0           ['block5a_activation[0][0]']     \n",
            " agePooling2D)                                                                                    \n",
            "                                                                                                  \n",
            " block5a_se_reshape (Reshape)   (None, 1, 1, 528)    0           ['block5a_se_squeeze[0][0]']     \n",
            "                                                                                                  \n",
            " block5a_se_reduce (Conv2D)     (None, 1, 1, 22)     11638       ['block5a_se_reshape[0][0]']     \n",
            "                                                                                                  \n",
            " block5a_se_expand (Conv2D)     (None, 1, 1, 528)    12144       ['block5a_se_reduce[0][0]']      \n",
            "                                                                                                  \n",
            " block5a_se_excite (Multiply)   (None, 10, 10, 528)  0           ['block5a_activation[0][0]',     \n",
            "                                                                  'block5a_se_expand[0][0]']      \n",
            "                                                                                                  \n",
            " block5a_project_conv (Conv2D)  (None, 10, 10, 120)  63360       ['block5a_se_excite[0][0]']      \n",
            "                                                                                                  \n",
            " block5a_project_bn (BatchNorma  (None, 10, 10, 120)  480        ['block5a_project_conv[0][0]']   \n",
            " lization)                                                                                        \n",
            "                                                                                                  \n",
            " block5b_expand_conv (Conv2D)   (None, 10, 10, 720)  86400       ['block5a_project_bn[0][0]']     \n",
            "                                                                                                  \n",
            " block5b_expand_bn (BatchNormal  (None, 10, 10, 720)  2880       ['block5b_expand_conv[0][0]']    \n",
            " ization)                                                                                         \n",
            "                                                                                                  \n",
            " block5b_expand_activation (Act  (None, 10, 10, 720)  0          ['block5b_expand_bn[0][0]']      \n",
            " ivation)                                                                                         \n",
            "                                                                                                  \n",
            " block5b_dwconv (DepthwiseConv2  (None, 10, 10, 720)  18000      ['block5b_expand_activation[0][0]\n",
            " D)                                                              ']                               \n",
            "                                                                                                  \n",
            " block5b_bn (BatchNormalization  (None, 10, 10, 720)  2880       ['block5b_dwconv[0][0]']         \n",
            " )                                                                                                \n",
            "                                                                                                  \n",
            " block5b_activation (Activation  (None, 10, 10, 720)  0          ['block5b_bn[0][0]']             \n",
            " )                                                                                                \n",
            "                                                                                                  \n",
            " block5b_se_squeeze (GlobalAver  (None, 720)         0           ['block5b_activation[0][0]']     \n",
            " agePooling2D)                                                                                    \n",
            "                                                                                                  \n",
            " block5b_se_reshape (Reshape)   (None, 1, 1, 720)    0           ['block5b_se_squeeze[0][0]']     \n",
            "                                                                                                  \n",
            " block5b_se_reduce (Conv2D)     (None, 1, 1, 30)     21630       ['block5b_se_reshape[0][0]']     \n",
            "                                                                                                  \n",
            " block5b_se_expand (Conv2D)     (None, 1, 1, 720)    22320       ['block5b_se_reduce[0][0]']      \n",
            "                                                                                                  \n",
            " block5b_se_excite (Multiply)   (None, 10, 10, 720)  0           ['block5b_activation[0][0]',     \n",
            "                                                                  'block5b_se_expand[0][0]']      \n",
            "                                                                                                  \n",
            " block5b_project_conv (Conv2D)  (None, 10, 10, 120)  86400       ['block5b_se_excite[0][0]']      \n",
            "                                                                                                  \n",
            " block5b_project_bn (BatchNorma  (None, 10, 10, 120)  480        ['block5b_project_conv[0][0]']   \n",
            " lization)                                                                                        \n",
            "                                                                                                  \n",
            " block5b_drop (Dropout)         (None, 10, 10, 120)  0           ['block5b_project_bn[0][0]']     \n",
            "                                                                                                  \n",
            " block5b_add (Add)              (None, 10, 10, 120)  0           ['block5b_drop[0][0]',           \n",
            "                                                                  'block5a_project_bn[0][0]']     \n",
            "                                                                                                  \n",
            " block5c_expand_conv (Conv2D)   (None, 10, 10, 720)  86400       ['block5b_add[0][0]']            \n",
            "                                                                                                  \n",
            " block5c_expand_bn (BatchNormal  (None, 10, 10, 720)  2880       ['block5c_expand_conv[0][0]']    \n",
            " ization)                                                                                         \n",
            "                                                                                                  \n",
            " block5c_expand_activation (Act  (None, 10, 10, 720)  0          ['block5c_expand_bn[0][0]']      \n",
            " ivation)                                                                                         \n",
            "                                                                                                  \n",
            " block5c_dwconv (DepthwiseConv2  (None, 10, 10, 720)  18000      ['block5c_expand_activation[0][0]\n",
            " D)                                                              ']                               \n",
            "                                                                                                  \n",
            " block5c_bn (BatchNormalization  (None, 10, 10, 720)  2880       ['block5c_dwconv[0][0]']         \n",
            " )                                                                                                \n",
            "                                                                                                  \n",
            " block5c_activation (Activation  (None, 10, 10, 720)  0          ['block5c_bn[0][0]']             \n",
            " )                                                                                                \n",
            "                                                                                                  \n",
            " block5c_se_squeeze (GlobalAver  (None, 720)         0           ['block5c_activation[0][0]']     \n",
            " agePooling2D)                                                                                    \n",
            "                                                                                                  \n",
            " block5c_se_reshape (Reshape)   (None, 1, 1, 720)    0           ['block5c_se_squeeze[0][0]']     \n",
            "                                                                                                  \n",
            " block5c_se_reduce (Conv2D)     (None, 1, 1, 30)     21630       ['block5c_se_reshape[0][0]']     \n",
            "                                                                                                  \n",
            " block5c_se_expand (Conv2D)     (None, 1, 1, 720)    22320       ['block5c_se_reduce[0][0]']      \n",
            "                                                                                                  \n",
            " block5c_se_excite (Multiply)   (None, 10, 10, 720)  0           ['block5c_activation[0][0]',     \n",
            "                                                                  'block5c_se_expand[0][0]']      \n",
            "                                                                                                  \n",
            " block5c_project_conv (Conv2D)  (None, 10, 10, 120)  86400       ['block5c_se_excite[0][0]']      \n",
            "                                                                                                  \n",
            " block5c_project_bn (BatchNorma  (None, 10, 10, 120)  480        ['block5c_project_conv[0][0]']   \n",
            " lization)                                                                                        \n",
            "                                                                                                  \n",
            " block5c_drop (Dropout)         (None, 10, 10, 120)  0           ['block5c_project_bn[0][0]']     \n",
            "                                                                                                  \n",
            " block5c_add (Add)              (None, 10, 10, 120)  0           ['block5c_drop[0][0]',           \n",
            "                                                                  'block5b_add[0][0]']            \n",
            "                                                                                                  \n",
            " block5d_expand_conv (Conv2D)   (None, 10, 10, 720)  86400       ['block5c_add[0][0]']            \n",
            "                                                                                                  \n",
            " block5d_expand_bn (BatchNormal  (None, 10, 10, 720)  2880       ['block5d_expand_conv[0][0]']    \n",
            " ization)                                                                                         \n",
            "                                                                                                  \n",
            " block5d_expand_activation (Act  (None, 10, 10, 720)  0          ['block5d_expand_bn[0][0]']      \n",
            " ivation)                                                                                         \n",
            "                                                                                                  \n",
            " block5d_dwconv (DepthwiseConv2  (None, 10, 10, 720)  18000      ['block5d_expand_activation[0][0]\n",
            " D)                                                              ']                               \n",
            "                                                                                                  \n",
            " block5d_bn (BatchNormalization  (None, 10, 10, 720)  2880       ['block5d_dwconv[0][0]']         \n",
            " )                                                                                                \n",
            "                                                                                                  \n",
            " block5d_activation (Activation  (None, 10, 10, 720)  0          ['block5d_bn[0][0]']             \n",
            " )                                                                                                \n",
            "                                                                                                  \n",
            " block5d_se_squeeze (GlobalAver  (None, 720)         0           ['block5d_activation[0][0]']     \n",
            " agePooling2D)                                                                                    \n",
            "                                                                                                  \n",
            " block5d_se_reshape (Reshape)   (None, 1, 1, 720)    0           ['block5d_se_squeeze[0][0]']     \n",
            "                                                                                                  \n",
            " block5d_se_reduce (Conv2D)     (None, 1, 1, 30)     21630       ['block5d_se_reshape[0][0]']     \n",
            "                                                                                                  \n",
            " block5d_se_expand (Conv2D)     (None, 1, 1, 720)    22320       ['block5d_se_reduce[0][0]']      \n",
            "                                                                                                  \n",
            " block5d_se_excite (Multiply)   (None, 10, 10, 720)  0           ['block5d_activation[0][0]',     \n",
            "                                                                  'block5d_se_expand[0][0]']      \n",
            "                                                                                                  \n",
            " block5d_project_conv (Conv2D)  (None, 10, 10, 120)  86400       ['block5d_se_excite[0][0]']      \n",
            "                                                                                                  \n",
            " block5d_project_bn (BatchNorma  (None, 10, 10, 120)  480        ['block5d_project_conv[0][0]']   \n",
            " lization)                                                                                        \n",
            "                                                                                                  \n",
            " block5d_drop (Dropout)         (None, 10, 10, 120)  0           ['block5d_project_bn[0][0]']     \n",
            "                                                                                                  \n",
            " block5d_add (Add)              (None, 10, 10, 120)  0           ['block5d_drop[0][0]',           \n",
            "                                                                  'block5c_add[0][0]']            \n",
            "                                                                                                  \n",
            " block6a_expand_conv (Conv2D)   (None, 10, 10, 720)  86400       ['block5d_add[0][0]']            \n",
            "                                                                                                  \n",
            " block6a_expand_bn (BatchNormal  (None, 10, 10, 720)  2880       ['block6a_expand_conv[0][0]']    \n",
            " ization)                                                                                         \n",
            "                                                                                                  \n",
            " block6a_expand_activation (Act  (None, 10, 10, 720)  0          ['block6a_expand_bn[0][0]']      \n",
            " ivation)                                                                                         \n",
            "                                                                                                  \n",
            " block6a_dwconv_pad (ZeroPaddin  (None, 13, 13, 720)  0          ['block6a_expand_activation[0][0]\n",
            " g2D)                                                            ']                               \n",
            "                                                                                                  \n",
            " block6a_dwconv (DepthwiseConv2  (None, 5, 5, 720)   18000       ['block6a_dwconv_pad[0][0]']     \n",
            " D)                                                                                               \n",
            "                                                                                                  \n",
            " block6a_bn (BatchNormalization  (None, 5, 5, 720)   2880        ['block6a_dwconv[0][0]']         \n",
            " )                                                                                                \n",
            "                                                                                                  \n",
            " block6a_activation (Activation  (None, 5, 5, 720)   0           ['block6a_bn[0][0]']             \n",
            " )                                                                                                \n",
            "                                                                                                  \n",
            " block6a_se_squeeze (GlobalAver  (None, 720)         0           ['block6a_activation[0][0]']     \n",
            " agePooling2D)                                                                                    \n",
            "                                                                                                  \n",
            " block6a_se_reshape (Reshape)   (None, 1, 1, 720)    0           ['block6a_se_squeeze[0][0]']     \n",
            "                                                                                                  \n",
            " block6a_se_reduce (Conv2D)     (None, 1, 1, 30)     21630       ['block6a_se_reshape[0][0]']     \n",
            "                                                                                                  \n",
            " block6a_se_expand (Conv2D)     (None, 1, 1, 720)    22320       ['block6a_se_reduce[0][0]']      \n",
            "                                                                                                  \n",
            " block6a_se_excite (Multiply)   (None, 5, 5, 720)    0           ['block6a_activation[0][0]',     \n",
            "                                                                  'block6a_se_expand[0][0]']      \n",
            "                                                                                                  \n",
            " block6a_project_conv (Conv2D)  (None, 5, 5, 208)    149760      ['block6a_se_excite[0][0]']      \n",
            "                                                                                                  \n",
            " block6a_project_bn (BatchNorma  (None, 5, 5, 208)   832         ['block6a_project_conv[0][0]']   \n",
            " lization)                                                                                        \n",
            "                                                                                                  \n",
            " block6b_expand_conv (Conv2D)   (None, 5, 5, 1248)   259584      ['block6a_project_bn[0][0]']     \n",
            "                                                                                                  \n",
            " block6b_expand_bn (BatchNormal  (None, 5, 5, 1248)  4992        ['block6b_expand_conv[0][0]']    \n",
            " ization)                                                                                         \n",
            "                                                                                                  \n",
            " block6b_expand_activation (Act  (None, 5, 5, 1248)  0           ['block6b_expand_bn[0][0]']      \n",
            " ivation)                                                                                         \n",
            "                                                                                                  \n",
            " block6b_dwconv (DepthwiseConv2  (None, 5, 5, 1248)  31200       ['block6b_expand_activation[0][0]\n",
            " D)                                                              ']                               \n",
            "                                                                                                  \n",
            " block6b_bn (BatchNormalization  (None, 5, 5, 1248)  4992        ['block6b_dwconv[0][0]']         \n",
            " )                                                                                                \n",
            "                                                                                                  \n",
            " block6b_activation (Activation  (None, 5, 5, 1248)  0           ['block6b_bn[0][0]']             \n",
            " )                                                                                                \n",
            "                                                                                                  \n",
            " block6b_se_squeeze (GlobalAver  (None, 1248)        0           ['block6b_activation[0][0]']     \n",
            " agePooling2D)                                                                                    \n",
            "                                                                                                  \n",
            " block6b_se_reshape (Reshape)   (None, 1, 1, 1248)   0           ['block6b_se_squeeze[0][0]']     \n",
            "                                                                                                  \n",
            " block6b_se_reduce (Conv2D)     (None, 1, 1, 52)     64948       ['block6b_se_reshape[0][0]']     \n",
            "                                                                                                  \n",
            " block6b_se_expand (Conv2D)     (None, 1, 1, 1248)   66144       ['block6b_se_reduce[0][0]']      \n",
            "                                                                                                  \n",
            " block6b_se_excite (Multiply)   (None, 5, 5, 1248)   0           ['block6b_activation[0][0]',     \n",
            "                                                                  'block6b_se_expand[0][0]']      \n",
            "                                                                                                  \n",
            " block6b_project_conv (Conv2D)  (None, 5, 5, 208)    259584      ['block6b_se_excite[0][0]']      \n",
            "                                                                                                  \n",
            " block6b_project_bn (BatchNorma  (None, 5, 5, 208)   832         ['block6b_project_conv[0][0]']   \n",
            " lization)                                                                                        \n",
            "                                                                                                  \n",
            " block6b_drop (Dropout)         (None, 5, 5, 208)    0           ['block6b_project_bn[0][0]']     \n",
            "                                                                                                  \n",
            " block6b_add (Add)              (None, 5, 5, 208)    0           ['block6b_drop[0][0]',           \n",
            "                                                                  'block6a_project_bn[0][0]']     \n",
            "                                                                                                  \n",
            " block6c_expand_conv (Conv2D)   (None, 5, 5, 1248)   259584      ['block6b_add[0][0]']            \n",
            "                                                                                                  \n",
            " block6c_expand_bn (BatchNormal  (None, 5, 5, 1248)  4992        ['block6c_expand_conv[0][0]']    \n",
            " ization)                                                                                         \n",
            "                                                                                                  \n",
            " block6c_expand_activation (Act  (None, 5, 5, 1248)  0           ['block6c_expand_bn[0][0]']      \n",
            " ivation)                                                                                         \n",
            "                                                                                                  \n",
            " block6c_dwconv (DepthwiseConv2  (None, 5, 5, 1248)  31200       ['block6c_expand_activation[0][0]\n",
            " D)                                                              ']                               \n",
            "                                                                                                  \n",
            " block6c_bn (BatchNormalization  (None, 5, 5, 1248)  4992        ['block6c_dwconv[0][0]']         \n",
            " )                                                                                                \n",
            "                                                                                                  \n",
            " block6c_activation (Activation  (None, 5, 5, 1248)  0           ['block6c_bn[0][0]']             \n",
            " )                                                                                                \n",
            "                                                                                                  \n",
            " block6c_se_squeeze (GlobalAver  (None, 1248)        0           ['block6c_activation[0][0]']     \n",
            " agePooling2D)                                                                                    \n",
            "                                                                                                  \n",
            " block6c_se_reshape (Reshape)   (None, 1, 1, 1248)   0           ['block6c_se_squeeze[0][0]']     \n",
            "                                                                                                  \n",
            " block6c_se_reduce (Conv2D)     (None, 1, 1, 52)     64948       ['block6c_se_reshape[0][0]']     \n",
            "                                                                                                  \n",
            " block6c_se_expand (Conv2D)     (None, 1, 1, 1248)   66144       ['block6c_se_reduce[0][0]']      \n",
            "                                                                                                  \n",
            " block6c_se_excite (Multiply)   (None, 5, 5, 1248)   0           ['block6c_activation[0][0]',     \n",
            "                                                                  'block6c_se_expand[0][0]']      \n",
            "                                                                                                  \n",
            " block6c_project_conv (Conv2D)  (None, 5, 5, 208)    259584      ['block6c_se_excite[0][0]']      \n",
            "                                                                                                  \n",
            " block6c_project_bn (BatchNorma  (None, 5, 5, 208)   832         ['block6c_project_conv[0][0]']   \n",
            " lization)                                                                                        \n",
            "                                                                                                  \n",
            " block6c_drop (Dropout)         (None, 5, 5, 208)    0           ['block6c_project_bn[0][0]']     \n",
            "                                                                                                  \n",
            " block6c_add (Add)              (None, 5, 5, 208)    0           ['block6c_drop[0][0]',           \n",
            "                                                                  'block6b_add[0][0]']            \n",
            "                                                                                                  \n",
            " block6d_expand_conv (Conv2D)   (None, 5, 5, 1248)   259584      ['block6c_add[0][0]']            \n",
            "                                                                                                  \n",
            " block6d_expand_bn (BatchNormal  (None, 5, 5, 1248)  4992        ['block6d_expand_conv[0][0]']    \n",
            " ization)                                                                                         \n",
            "                                                                                                  \n",
            " block6d_expand_activation (Act  (None, 5, 5, 1248)  0           ['block6d_expand_bn[0][0]']      \n",
            " ivation)                                                                                         \n",
            "                                                                                                  \n",
            " block6d_dwconv (DepthwiseConv2  (None, 5, 5, 1248)  31200       ['block6d_expand_activation[0][0]\n",
            " D)                                                              ']                               \n",
            "                                                                                                  \n",
            " block6d_bn (BatchNormalization  (None, 5, 5, 1248)  4992        ['block6d_dwconv[0][0]']         \n",
            " )                                                                                                \n",
            "                                                                                                  \n",
            " block6d_activation (Activation  (None, 5, 5, 1248)  0           ['block6d_bn[0][0]']             \n",
            " )                                                                                                \n",
            "                                                                                                  \n",
            " block6d_se_squeeze (GlobalAver  (None, 1248)        0           ['block6d_activation[0][0]']     \n",
            " agePooling2D)                                                                                    \n",
            "                                                                                                  \n",
            " block6d_se_reshape (Reshape)   (None, 1, 1, 1248)   0           ['block6d_se_squeeze[0][0]']     \n",
            "                                                                                                  \n",
            " block6d_se_reduce (Conv2D)     (None, 1, 1, 52)     64948       ['block6d_se_reshape[0][0]']     \n",
            "                                                                                                  \n",
            " block6d_se_expand (Conv2D)     (None, 1, 1, 1248)   66144       ['block6d_se_reduce[0][0]']      \n",
            "                                                                                                  \n",
            " block6d_se_excite (Multiply)   (None, 5, 5, 1248)   0           ['block6d_activation[0][0]',     \n",
            "                                                                  'block6d_se_expand[0][0]']      \n",
            "                                                                                                  \n",
            " block6d_project_conv (Conv2D)  (None, 5, 5, 208)    259584      ['block6d_se_excite[0][0]']      \n",
            "                                                                                                  \n",
            " block6d_project_bn (BatchNorma  (None, 5, 5, 208)   832         ['block6d_project_conv[0][0]']   \n",
            " lization)                                                                                        \n",
            "                                                                                                  \n",
            " block6d_drop (Dropout)         (None, 5, 5, 208)    0           ['block6d_project_bn[0][0]']     \n",
            "                                                                                                  \n",
            " block6d_add (Add)              (None, 5, 5, 208)    0           ['block6d_drop[0][0]',           \n",
            "                                                                  'block6c_add[0][0]']            \n",
            "                                                                                                  \n",
            " block6e_expand_conv (Conv2D)   (None, 5, 5, 1248)   259584      ['block6d_add[0][0]']            \n",
            "                                                                                                  \n",
            " block6e_expand_bn (BatchNormal  (None, 5, 5, 1248)  4992        ['block6e_expand_conv[0][0]']    \n",
            " ization)                                                                                         \n",
            "                                                                                                  \n",
            " block6e_expand_activation (Act  (None, 5, 5, 1248)  0           ['block6e_expand_bn[0][0]']      \n",
            " ivation)                                                                                         \n",
            "                                                                                                  \n",
            " block6e_dwconv (DepthwiseConv2  (None, 5, 5, 1248)  31200       ['block6e_expand_activation[0][0]\n",
            " D)                                                              ']                               \n",
            "                                                                                                  \n",
            " block6e_bn (BatchNormalization  (None, 5, 5, 1248)  4992        ['block6e_dwconv[0][0]']         \n",
            " )                                                                                                \n",
            "                                                                                                  \n",
            " block6e_activation (Activation  (None, 5, 5, 1248)  0           ['block6e_bn[0][0]']             \n",
            " )                                                                                                \n",
            "                                                                                                  \n",
            " block6e_se_squeeze (GlobalAver  (None, 1248)        0           ['block6e_activation[0][0]']     \n",
            " agePooling2D)                                                                                    \n",
            "                                                                                                  \n",
            " block6e_se_reshape (Reshape)   (None, 1, 1, 1248)   0           ['block6e_se_squeeze[0][0]']     \n",
            "                                                                                                  \n",
            " block6e_se_reduce (Conv2D)     (None, 1, 1, 52)     64948       ['block6e_se_reshape[0][0]']     \n",
            "                                                                                                  \n",
            " block6e_se_expand (Conv2D)     (None, 1, 1, 1248)   66144       ['block6e_se_reduce[0][0]']      \n",
            "                                                                                                  \n",
            " block6e_se_excite (Multiply)   (None, 5, 5, 1248)   0           ['block6e_activation[0][0]',     \n",
            "                                                                  'block6e_se_expand[0][0]']      \n",
            "                                                                                                  \n",
            " block6e_project_conv (Conv2D)  (None, 5, 5, 208)    259584      ['block6e_se_excite[0][0]']      \n",
            "                                                                                                  \n",
            " block6e_project_bn (BatchNorma  (None, 5, 5, 208)   832         ['block6e_project_conv[0][0]']   \n",
            " lization)                                                                                        \n",
            "                                                                                                  \n",
            " block6e_drop (Dropout)         (None, 5, 5, 208)    0           ['block6e_project_bn[0][0]']     \n",
            "                                                                                                  \n",
            " block6e_add (Add)              (None, 5, 5, 208)    0           ['block6e_drop[0][0]',           \n",
            "                                                                  'block6d_add[0][0]']            \n",
            "                                                                                                  \n",
            " block7a_expand_conv (Conv2D)   (None, 5, 5, 1248)   259584      ['block6e_add[0][0]']            \n",
            "                                                                                                  \n",
            " block7a_expand_bn (BatchNormal  (None, 5, 5, 1248)  4992        ['block7a_expand_conv[0][0]']    \n",
            " ization)                                                                                         \n",
            "                                                                                                  \n",
            " block7a_expand_activation (Act  (None, 5, 5, 1248)  0           ['block7a_expand_bn[0][0]']      \n",
            " ivation)                                                                                         \n",
            "                                                                                                  \n",
            " block7a_dwconv (DepthwiseConv2  (None, 5, 5, 1248)  11232       ['block7a_expand_activation[0][0]\n",
            " D)                                                              ']                               \n",
            "                                                                                                  \n",
            " block7a_bn (BatchNormalization  (None, 5, 5, 1248)  4992        ['block7a_dwconv[0][0]']         \n",
            " )                                                                                                \n",
            "                                                                                                  \n",
            " block7a_activation (Activation  (None, 5, 5, 1248)  0           ['block7a_bn[0][0]']             \n",
            " )                                                                                                \n",
            "                                                                                                  \n",
            " block7a_se_squeeze (GlobalAver  (None, 1248)        0           ['block7a_activation[0][0]']     \n",
            " agePooling2D)                                                                                    \n",
            "                                                                                                  \n",
            " block7a_se_reshape (Reshape)   (None, 1, 1, 1248)   0           ['block7a_se_squeeze[0][0]']     \n",
            "                                                                                                  \n",
            " block7a_se_reduce (Conv2D)     (None, 1, 1, 52)     64948       ['block7a_se_reshape[0][0]']     \n",
            "                                                                                                  \n",
            " block7a_se_expand (Conv2D)     (None, 1, 1, 1248)   66144       ['block7a_se_reduce[0][0]']      \n",
            "                                                                                                  \n",
            " block7a_se_excite (Multiply)   (None, 5, 5, 1248)   0           ['block7a_activation[0][0]',     \n",
            "                                                                  'block7a_se_expand[0][0]']      \n",
            "                                                                                                  \n",
            " block7a_project_conv (Conv2D)  (None, 5, 5, 352)    439296      ['block7a_se_excite[0][0]']      \n",
            "                                                                                                  \n",
            " block7a_project_bn (BatchNorma  (None, 5, 5, 352)   1408        ['block7a_project_conv[0][0]']   \n",
            " lization)                                                                                        \n",
            "                                                                                                  \n",
            " block7b_expand_conv (Conv2D)   (None, 5, 5, 2112)   743424      ['block7a_project_bn[0][0]']     \n",
            "                                                                                                  \n",
            " block7b_expand_bn (BatchNormal  (None, 5, 5, 2112)  8448        ['block7b_expand_conv[0][0]']    \n",
            " ization)                                                                                         \n",
            "                                                                                                  \n",
            " block7b_expand_activation (Act  (None, 5, 5, 2112)  0           ['block7b_expand_bn[0][0]']      \n",
            " ivation)                                                                                         \n",
            "                                                                                                  \n",
            " block7b_dwconv (DepthwiseConv2  (None, 5, 5, 2112)  19008       ['block7b_expand_activation[0][0]\n",
            " D)                                                              ']                               \n",
            "                                                                                                  \n",
            " block7b_bn (BatchNormalization  (None, 5, 5, 2112)  8448        ['block7b_dwconv[0][0]']         \n",
            " )                                                                                                \n",
            "                                                                                                  \n",
            " block7b_activation (Activation  (None, 5, 5, 2112)  0           ['block7b_bn[0][0]']             \n",
            " )                                                                                                \n",
            "                                                                                                  \n",
            " block7b_se_squeeze (GlobalAver  (None, 2112)        0           ['block7b_activation[0][0]']     \n",
            " agePooling2D)                                                                                    \n",
            "                                                                                                  \n",
            " block7b_se_reshape (Reshape)   (None, 1, 1, 2112)   0           ['block7b_se_squeeze[0][0]']     \n",
            "                                                                                                  \n",
            " block7b_se_reduce (Conv2D)     (None, 1, 1, 88)     185944      ['block7b_se_reshape[0][0]']     \n",
            "                                                                                                  \n",
            " block7b_se_expand (Conv2D)     (None, 1, 1, 2112)   187968      ['block7b_se_reduce[0][0]']      \n",
            "                                                                                                  \n",
            " block7b_se_excite (Multiply)   (None, 5, 5, 2112)   0           ['block7b_activation[0][0]',     \n",
            "                                                                  'block7b_se_expand[0][0]']      \n",
            "                                                                                                  \n",
            " block7b_project_conv (Conv2D)  (None, 5, 5, 352)    743424      ['block7b_se_excite[0][0]']      \n",
            "                                                                                                  \n",
            " block7b_project_bn (BatchNorma  (None, 5, 5, 352)   1408        ['block7b_project_conv[0][0]']   \n",
            " lization)                                                                                        \n",
            "                                                                                                  \n",
            " block7b_drop (Dropout)         (None, 5, 5, 352)    0           ['block7b_project_bn[0][0]']     \n",
            "                                                                                                  \n",
            " block7b_add (Add)              (None, 5, 5, 352)    0           ['block7b_drop[0][0]',           \n",
            "                                                                  'block7a_project_bn[0][0]']     \n",
            "                                                                                                  \n",
            " top_conv (Conv2D)              (None, 5, 5, 1408)   495616      ['block7b_add[0][0]']            \n",
            "                                                                                                  \n",
            " top_bn (BatchNormalization)    (None, 5, 5, 1408)   5632        ['top_conv[0][0]']               \n",
            "                                                                                                  \n",
            " top_activation (Activation)    (None, 5, 5, 1408)   0           ['top_bn[0][0]']                 \n",
            "                                                                                                  \n",
            " avg_pool (GlobalAveragePooling  (None, 1408)        0           ['top_activation[0][0]']         \n",
            " 2D)                                                                                              \n",
            "                                                                                                  \n",
            " sequential (Sequential)        (None, 2)            2818        ['avg_pool[0][0]']               \n",
            "                                                                                                  \n",
            "==================================================================================================\n",
            "Total params: 7,771,387\n",
            "Trainable params: 7,703,812\n",
            "Non-trainable params: 67,575\n",
            "__________________________________________________________________________________________________\n"
          ]
        }
      ],
      "source": [
        "model.summary()"
      ]
    },
    {
      "cell_type": "markdown",
      "source": [
        "Optimizer'ı tanımlıyoruz.\n",
        "\n",
        "---"
      ],
      "metadata": {
        "id": "Cly-gV6680fg"
      },
      "id": "Cly-gV6680fg"
    },
    {
      "cell_type": "code",
      "execution_count": 11,
      "id": "e501fd77",
      "metadata": {
        "id": "e501fd77"
      },
      "outputs": [],
      "source": [
        "# Define the optimizer\n",
        "optimizer = tf.keras.optimizers.Adam(learning_rate=0.001)"
      ]
    },
    {
      "cell_type": "markdown",
      "source": [
        "Modelimizi derliyoruz.\n",
        "\n",
        "---"
      ],
      "metadata": {
        "id": "rt_LZhDW84kX"
      },
      "id": "rt_LZhDW84kX"
    },
    {
      "cell_type": "code",
      "execution_count": 12,
      "id": "a91668e8",
      "metadata": {
        "id": "a91668e8"
      },
      "outputs": [],
      "source": [
        "# Compile the model\n",
        "model.compile(optimizer = optimizer , loss = \"categorical_crossentropy\", metrics=[\"accuracy\"])"
      ]
    },
    {
      "cell_type": "markdown",
      "source": [
        "Bu fonksiyon learning rate'i 5 epochdan sonra kademe olarak azaltmaktadır.\n",
        "\n",
        "---"
      ],
      "metadata": {
        "id": "z3BO1qYFE2P9"
      },
      "id": "z3BO1qYFE2P9"
    },
    {
      "cell_type": "code",
      "execution_count": 13,
      "id": "7937fb41",
      "metadata": {
        "id": "7937fb41"
      },
      "outputs": [],
      "source": [
        "def scheduler(epoch, lr):\n",
        "    if epoch < 5:\n",
        "        return lr\n",
        "    else:\n",
        "        return lr * tf.math.exp(-0.1)"
      ]
    },
    {
      "cell_type": "markdown",
      "source": [
        "Bu kısımda epoch ve batch_size değerlerimizi ayarlıyoruz.\n",
        "\n",
        "Epoch: Bir öğrenme işleminin kaç sefer tekrarlanacağıdır.\n",
        "Batch_size: Öğrenme işleminin kaç görselde bir yapılacağıdır, daha da detaylandıracak olursak back-propaganation ve forward-propaganation işlemlerinin kaç görsel ile tekrarlanacağıdır. Epoch/Batch_size işlemi bize step_per_epoch değişkeninin değerini döndürür.\n",
        "\n",
        "---"
      ],
      "metadata": {
        "id": "m2hEYCCpFP62"
      },
      "id": "m2hEYCCpFP62"
    },
    {
      "cell_type": "code",
      "execution_count": 11,
      "id": "89433f8e",
      "metadata": {
        "id": "89433f8e"
      },
      "outputs": [],
      "source": [
        "epochs = 10 # for better result increase the epochs\n",
        "batch_size=2\n",
        "\n",
        "# step_per_epoch=1495\n",
        "# batch_size = int(X_train.shape[0] /step_per_epoch)\n",
        "step_per_epoch = int(X_train.shape[0] /batch_size)\n",
        "print(f\"step_per_epoch: {step_per_epoch}\")"
      ]
    },
    {
      "cell_type": "markdown",
      "source": [
        "Datagen işlemi yapay veri oluşturmak için kullanılır. Datasetin yetersiz olduğu durumlarda mevcut datasetindeki resimleri bazı işlemlerden(döndürme, yakınlaştırma, blurlama, vb.) geçirilmesi sonucu dataset arttırma yapılır.\n",
        "\n",
        "---"
      ],
      "metadata": {
        "id": "v0FTaHSLGGdJ"
      },
      "id": "v0FTaHSLGGdJ"
    },
    {
      "cell_type": "code",
      "execution_count": 15,
      "id": "7783abc1",
      "metadata": {
        "id": "7783abc1"
      },
      "outputs": [],
      "source": [
        "# # data augmentation\n",
        "datagen = ImageDataGenerator(\n",
        "    featurewise_center=False,\n",
        "    samplewise_center=False,\n",
        "    featurewise_std_normalization=False,\n",
        "    samplewise_std_normalization=False,\n",
        "    zca_whitening=False,\n",
        "    zca_epsilon=1e-06,\n",
        "    rotation_range=0,\n",
        "    width_shift_range=0.0,\n",
        "    height_shift_range=0.0,\n",
        "    brightness_range=None,\n",
        "    shear_range=0.0,\n",
        "    zoom_range=0.0,\n",
        "    channel_shift_range=0.0,\n",
        "    fill_mode='nearest',\n",
        "    cval=0.0,\n",
        "    horizontal_flip=False,\n",
        "    vertical_flip=False,\n",
        "    rescale=None,\n",
        "    preprocessing_function=None,\n",
        "    data_format=None,\n",
        "    validation_split=0.0,\n",
        ")\n",
        "\n",
        "datagen.fit(X_train)"
      ]
    },
    {
      "cell_type": "markdown",
      "source": [
        "Öğrenme azaltma fonksiyonunu çağırıyoruz.\n",
        "\n",
        "---"
      ],
      "metadata": {
        "id": "ImlWlqYQGqUg"
      },
      "id": "ImlWlqYQGqUg"
    },
    {
      "cell_type": "code",
      "execution_count": 16,
      "id": "9b713b7b",
      "metadata": {
        "id": "9b713b7b"
      },
      "outputs": [],
      "source": [
        "callback = tf.keras.callbacks.LearningRateScheduler(scheduler)"
      ]
    },
    {
      "cell_type": "markdown",
      "source": [
        "Model fit ediyoruz ve eğitimimize başlıyoruz.\n",
        "\n",
        "---"
      ],
      "metadata": {
        "id": "_kK3F136GyCa"
      },
      "id": "_kK3F136GyCa"
    },
    {
      "cell_type": "code",
      "execution_count": 17,
      "id": "873ac7f1",
      "metadata": {
        "colab": {
          "base_uri": "https://localhost:8080/"
        },
        "id": "873ac7f1",
        "outputId": "4684f154-34af-4546-c73a-738848b49fbd"
      },
      "outputs": [
        {
          "output_type": "stream",
          "name": "stdout",
          "text": [
            "Epoch 1/10\n",
            "7983/7983 [==============================] - 546s 65ms/step - loss: 0.3538 - accuracy: 0.8484 - val_loss: 0.2698 - val_accuracy: 0.8833 - lr: 0.0010\n",
            "Epoch 2/10\n",
            "7983/7983 [==============================] - 472s 59ms/step - loss: 0.2260 - accuracy: 0.9094 - val_loss: 0.1615 - val_accuracy: 0.9351 - lr: 0.0010\n",
            "Epoch 3/10\n",
            "7983/7983 [==============================] - 469s 59ms/step - loss: 0.1799 - accuracy: 0.9287 - val_loss: 0.1742 - val_accuracy: 0.9261 - lr: 0.0010\n",
            "Epoch 4/10\n",
            "7983/7983 [==============================] - 479s 60ms/step - loss: 0.1537 - accuracy: 0.9414 - val_loss: 0.1552 - val_accuracy: 0.9386 - lr: 0.0010\n",
            "Epoch 5/10\n",
            "7983/7983 [==============================] - 488s 61ms/step - loss: 0.1257 - accuracy: 0.9513 - val_loss: 0.1611 - val_accuracy: 0.9359 - lr: 0.0010\n",
            "Epoch 6/10\n",
            "7983/7983 [==============================] - 483s 60ms/step - loss: 0.1077 - accuracy: 0.9585 - val_loss: 0.1362 - val_accuracy: 0.9491 - lr: 9.0484e-04\n",
            "Epoch 7/10\n",
            "7983/7983 [==============================] - 478s 60ms/step - loss: 0.0842 - accuracy: 0.9685 - val_loss: 0.1261 - val_accuracy: 0.9494 - lr: 8.1873e-04\n",
            "Epoch 8/10\n",
            "7983/7983 [==============================] - 473s 59ms/step - loss: 0.0669 - accuracy: 0.9751 - val_loss: 0.1403 - val_accuracy: 0.9441 - lr: 7.4082e-04\n",
            "Epoch 9/10\n",
            "7983/7983 [==============================] - 475s 60ms/step - loss: 0.0485 - accuracy: 0.9827 - val_loss: 0.1181 - val_accuracy: 0.9547 - lr: 6.7032e-04\n",
            "Epoch 10/10\n",
            "7983/7983 [==============================] - 474s 59ms/step - loss: 0.0391 - accuracy: 0.9857 - val_loss: 0.1245 - val_accuracy: 0.9542 - lr: 6.0653e-04\n"
          ]
        }
      ],
      "source": [
        "# Fit the model\n",
        "history = model.fit_generator(datagen.flow(X_train,y_train, batch_size=batch_size),\n",
        "                              epochs = epochs, callbacks=[callback], validation_data = (X_test,y_test), steps_per_epoch=X_train.shape[0] // batch_size)"
      ]
    },
    {
      "cell_type": "markdown",
      "source": [
        "Eğittiğimiz modeli eğitirken kullandığımız veri setlerinden farklı olan ayrı bir veri seti ile test ediyoruz.\n",
        "\n",
        "---"
      ],
      "metadata": {
        "id": "NYSTkgXWG5rp"
      },
      "id": "NYSTkgXWG5rp"
    },
    {
      "cell_type": "code",
      "execution_count": 7,
      "id": "77973a8e",
      "metadata": {
        "scrolled": true,
        "colab": {
          "base_uri": "https://localhost:8080/"
        },
        "id": "77973a8e",
        "outputId": "65fd2a98-7829-497d-9ab2-f1e13da47a79"
      },
      "outputs": [
        {
          "output_type": "stream",
          "name": "stdout",
          "text": [
            "156/156 [==============================] - 23s 58ms/step - loss: 0.1039 - accuracy: 0.9599\n"
          ]
        }
      ],
      "source": [
        "loss, acc=model.evaluate(X_val,y_val)"
      ]
    },
    {
      "cell_type": "markdown",
      "source": [
        "Modeli ayırt edebilmek ve hangi gün oluşturulduğunu anlamak için sistemden tarihi alan bir değişken oluşturuyoruz.\n",
        "\n",
        "---"
      ],
      "metadata": {
        "id": "2Bz3S_WvHJyW"
      },
      "id": "2Bz3S_WvHJyW"
    },
    {
      "cell_type": "code",
      "execution_count": 8,
      "id": "eb20adcb",
      "metadata": {
        "colab": {
          "base_uri": "https://localhost:8080/"
        },
        "id": "eb20adcb",
        "outputId": "ec5ce093-1e23-45b5-950e-372d66d45697"
      },
      "outputs": [
        {
          "output_type": "stream",
          "name": "stdout",
          "text": [
            "29-Aug-2022\n"
          ]
        }
      ],
      "source": [
        "import datetime\n",
        "date=datetime.datetime.now()\n",
        "date.strftime(\"%x\")\n",
        "dateIs=f\"{date.day}-{date.strftime('%b')}-{date.year}\"\n",
        "print(dateIs)"
      ]
    },
    {
      "cell_type": "markdown",
      "source": [
        "Modelin ismini ayırt edici olacak şekilde ayarlıyoruz.\n",
        "\n",
        "---"
      ],
      "metadata": {
        "id": "xPDPzp_gHjDe"
      },
      "id": "xPDPzp_gHjDe"
    },
    {
      "cell_type": "code",
      "execution_count": 12,
      "id": "0143d3b5",
      "metadata": {
        "colab": {
          "base_uri": "https://localhost:8080/",
          "height": 35
        },
        "id": "0143d3b5",
        "outputId": "6698deaa-1856-4e94-e180-cdcafbd8ee9f"
      },
      "outputs": [
        {
          "output_type": "execute_result",
          "data": {
            "text/plain": [
              "'BatchSize-2_ValLoss-0.1_ValAcc-0.96_29-Aug-2022'"
            ],
            "application/vnd.google.colaboratory.intrinsic+json": {
              "type": "string"
            }
          },
          "metadata": {},
          "execution_count": 12
        }
      ],
      "source": [
        "modelInfo=f\"BatchSize-{batch_size}_ValLoss-{round(loss,2)}_ValAcc-{round(acc,2)}_{dateIs}\"\n",
        "modelInfo"
      ]
    },
    {
      "cell_type": "markdown",
      "source": [
        "Modelin sonuçlarını matplotlib kütüphanesi ile görselleştiriyoruz.\n",
        "\n",
        "---"
      ],
      "metadata": {
        "id": "FJFfCou1HrOl"
      },
      "id": "FJFfCou1HrOl"
    },
    {
      "cell_type": "code",
      "execution_count": null,
      "id": "22dbe699",
      "metadata": {
        "id": "22dbe699"
      },
      "outputs": [],
      "source": [
        "plt.style.use(\"ggplot\")\n",
        "plt.figure()\n",
        "N=epochs\n",
        "\n",
        "plt.subplot(2,2,1)\n",
        "plt.title(\"Training Loss\")\n",
        "\n",
        "plt.plot(np.arange(0,N),history.history[\"loss\"])\n",
        "plt.subplot(2,2,2)\n",
        "plt.title(\"Validation Loss\")\n",
        "\n",
        "plt.plot(np.arange(0,N),history.history[\"val_loss\"])\n",
        "plt.subplot(2,2,3)\n",
        "plt.title(\"Training Accuracy\")\n",
        "\n",
        "plt.plot(np.arange(0,N),history.history[\"accuracy\"])\n",
        "plt.subplot(2,2,4)\n",
        "plt.title(\"Validation Accuracy\")\n",
        "\n",
        "plt.plot(np.arange(0,N),history.history[\"val_accuracy\"])\n",
        "\n",
        "plt.xlabel(\"Epoch #\")\n",
        "plt.ylabel(\"Loss/Accuracy\")\n",
        "plt.legend(loc=\"lower left\")"
      ]
    },
    {
      "cell_type": "markdown",
      "source": [
        "Confusion matrix: Confusion bize hangi labelları ne oranda tahmin edebildiğimizi gösterir. Kesişen değerler doğru tahmin sayısını gösterir.\n",
        "\n",
        "---"
      ],
      "metadata": {
        "id": "HzjnCz_OH3ts"
      },
      "id": "HzjnCz_OH3ts"
    },
    {
      "cell_type": "code",
      "execution_count": 13,
      "id": "fac037fe",
      "metadata": {
        "colab": {
          "base_uri": "https://localhost:8080/",
          "height": 513
        },
        "id": "fac037fe",
        "outputId": "67f9852f-2b50-4ea9-aaa4-dd737df646a8"
      },
      "outputs": [
        {
          "output_type": "display_data",
          "data": {
            "text/plain": [
              "<Figure size 576x576 with 2 Axes>"
            ],
            "image/png": "[encoded data removed]"
          },
          "metadata": {
            "needs_background": "light"
          }
        }
      ],
      "source": [
        "# confusion matrix\n",
        "import seaborn as sns\n",
        "# Predict the values from the validation dataset\n",
        "Y_pred = model.predict(X_val)\n",
        "# Convert predictions classes to one hot vectors \n",
        "Y_pred_classes = np.argmax(Y_pred,axis = 1) \n",
        "# Convert validation observations to one hot vectors\n",
        "Y_true = np.argmax(y_val,axis = 1) \n",
        "# compute the confusion matrix\n",
        "confusion_mtx = confusion_matrix(Y_true, Y_pred_classes) \n",
        "# plot the confusion matrix\n",
        "f,ax = plt.subplots(figsize=(8, 8))\n",
        "sns.heatmap(confusion_mtx, annot=True, linewidths=0.01,cmap=\"Greens\",linecolor=\"gray\", fmt= '.1f',ax=ax)\n",
        "plt.xlabel(\"Predicted Label\")\n",
        "plt.ylabel(\"True Label\")\n",
        "plt.title(\"Confusion Matrix\")\n",
        "plt.show()"
      ]
    },
    {
      "cell_type": "markdown",
      "source": [
        "Modelimizi kaydediyoruz.\n",
        "\n",
        "---"
      ],
      "metadata": {
        "id": "Kqu8agh6IRqg"
      },
      "id": "Kqu8agh6IRqg"
    },
    {
      "cell_type": "code",
      "execution_count": 21,
      "id": "53dfc260",
      "metadata": {
        "scrolled": true,
        "colab": {
          "base_uri": "https://localhost:8080/"
        },
        "id": "53dfc260",
        "outputId": "9539f9f9-4a57-4a53-be39-880ff3394459"
      },
      "outputs": [
        {
          "output_type": "stream",
          "name": "stdout",
          "text": [
            "[INFO] saving network...\n",
            "[INFO] network saved...\n"
          ]
        }
      ],
      "source": [
        "print(\"[INFO] saving network...\")\n",
        "model.save(f\"{dataset_path}AI_Summer_Camp-Transfer_Learning_{modelInfo}.model\")\n",
        "print(\"[INFO] network saved...\")"
      ]
    },
    {
      "cell_type": "code",
      "source": [],
      "metadata": {
        "id": "jF_77LYoTeBf"
      },
      "id": "jF_77LYoTeBf",
      "execution_count": null,
      "outputs": []
    }
  ],
  "metadata": {
    "kernelspec": {
      "display_name": "Python 3 (ipykernel)",
      "language": "python",
      "name": "python3"
    },
    "language_info": {
      "codemirror_mode": {
        "name": "ipython",
        "version": 3
      },
      "file_extension": ".py",
      "mimetype": "text/x-python",
      "name": "python",
      "nbconvert_exporter": "python",
      "pygments_lexer": "ipython3",
      "version": "3.9.7"
    },
    "colab": {
      "name": "Training Model.ipynb",
      "provenance": [],
      "include_colab_link": true
    },
    "accelerator": "GPU",
    "gpuClass": "standard"
  },
  "nbformat": 4,
  "nbformat_minor": 5
}