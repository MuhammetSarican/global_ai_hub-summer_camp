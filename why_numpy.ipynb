{
  "nbformat": 4,
  "nbformat_minor": 0,
  "metadata": {
    "colab": {
      "name": "why_numpy.ipynb",
      "provenance": [],
      "collapsed_sections": [],
      "include_colab_link": true
    },
    "kernelspec": {
      "name": "python3",
      "display_name": "Python 3"
    },
    "language_info": {
      "name": "python"
    }
  },
  "cells": [
    {
      "cell_type": "markdown",
      "metadata": {
        "id": "view-in-github",
        "colab_type": "text"
      },
      "source": [
        "<a href=\"https://colab.research.google.com/github/MuhammetSarican/global_ai_hub-summer_camp/blob/main/why_numpy.ipynb\" target=\"_parent\"><img src=\"https://colab.research.google.com/assets/colab-badge.svg\" alt=\"Open In Colab\"/></a>"
      ]
    },
    {
      "cell_type": "code",
      "source": [
        "import numpy as np"
      ],
      "metadata": {
        "id": "N7E6Be75wq_a"
      },
      "execution_count": 1,
      "outputs": []
    },
    {
      "cell_type": "code",
      "source": [
        "array=np.array([1,2,3,4,5])"
      ],
      "metadata": {
        "id": "THDBQ8zrwtMO"
      },
      "execution_count": 2,
      "outputs": []
    },
    {
      "cell_type": "code",
      "source": [
        "print(type(array))"
      ],
      "metadata": {
        "colab": {
          "base_uri": "https://localhost:8080/"
        },
        "id": "-y3sFXCTw1TN",
        "outputId": "140b1c78-3d6a-4a3b-deb2-64f62679ff44"
      },
      "execution_count": 3,
      "outputs": [
        {
          "output_type": "stream",
          "name": "stdout",
          "text": [
            "<class 'numpy.ndarray'>\n"
          ]
        }
      ]
    },
    {
      "cell_type": "code",
      "source": [
        "revenues=[2000,5000,3000,65000,7200,31000,26550,1900,3820,5100,41000]"
      ],
      "metadata": {
        "id": "Fk52svNsw4wd"
      },
      "execution_count": 4,
      "outputs": []
    },
    {
      "cell_type": "code",
      "source": [
        "import time \n",
        "initial_time=time.time()\n",
        "sum=0\n",
        "for i in revenues:\n",
        "  sum+=i\n",
        "\n",
        "print(sum)\n",
        "termination_time=time.time()\n",
        "\n",
        "print(f\"Execution Time: {termination_time-initial_time}\")"
      ],
      "metadata": {
        "colab": {
          "base_uri": "https://localhost:8080/"
        },
        "id": "HEk_PUhRxaWd",
        "outputId": "9f434e3f-7cef-4b60-a68a-0e5345d3be3f"
      },
      "execution_count": 11,
      "outputs": [
        {
          "output_type": "stream",
          "name": "stdout",
          "text": [
            "191570\n",
            "Execution Time: 0.003108501434326172\n"
          ]
        }
      ]
    },
    {
      "cell_type": "code",
      "source": [
        "array=np.array(revenues)\n",
        "\n",
        "initial_time=time.time()\n",
        "\n",
        "sum=array.sum()\n",
        "print(sum)\n",
        "termination_time=time.time()\n",
        "\n",
        "print(f\"Execution Time: {termination_time-initial_time}\")"
      ],
      "metadata": {
        "colab": {
          "base_uri": "https://localhost:8080/"
        },
        "id": "pLjM_fOTxd00",
        "outputId": "683e6beb-3616-4730-d52f-c8a8654c16f5"
      },
      "execution_count": 12,
      "outputs": [
        {
          "output_type": "stream",
          "name": "stdout",
          "text": [
            "191570\n",
            "Execution Time: 0.0009491443634033203\n"
          ]
        }
      ]
    },
    {
      "cell_type": "code",
      "source": [
        "x=[\"Ben\",500,\"Jake\",\"Liz\",6000]\n",
        "print(x)"
      ],
      "metadata": {
        "colab": {
          "base_uri": "https://localhost:8080/"
        },
        "id": "rZJVa1SFx99Y",
        "outputId": "018ee5c9-26e0-4177-d316-e818a669ce6b"
      },
      "execution_count": 13,
      "outputs": [
        {
          "output_type": "stream",
          "name": "stdout",
          "text": [
            "['Ben', 500, 'Jake', 'Liz', 6000]\n"
          ]
        }
      ]
    },
    {
      "cell_type": "code",
      "source": [
        "for i in x:\n",
        "  print(type(i))"
      ],
      "metadata": {
        "colab": {
          "base_uri": "https://localhost:8080/"
        },
        "id": "H5yV4j8SywZq",
        "outputId": "7e5df02e-07a2-455c-a4b4-269972e09dbc"
      },
      "execution_count": 14,
      "outputs": [
        {
          "output_type": "stream",
          "name": "stdout",
          "text": [
            "<class 'str'>\n",
            "<class 'int'>\n",
            "<class 'str'>\n",
            "<class 'str'>\n",
            "<class 'int'>\n"
          ]
        }
      ]
    },
    {
      "cell_type": "code",
      "source": [
        "arrayx=np.array(x)\n",
        "print(arrayx)"
      ],
      "metadata": {
        "colab": {
          "base_uri": "https://localhost:8080/"
        },
        "id": "M89XuP-Gy1ku",
        "outputId": "e9f1d0ed-99c3-49a7-9a56-71561a4bdc01"
      },
      "execution_count": 15,
      "outputs": [
        {
          "output_type": "stream",
          "name": "stdout",
          "text": [
            "['Ben' '500' 'Jake' 'Liz' '6000']\n"
          ]
        }
      ]
    },
    {
      "cell_type": "code",
      "source": [
        "for i in arrayx:\n",
        "  print(type(i))"
      ],
      "metadata": {
        "colab": {
          "base_uri": "https://localhost:8080/"
        },
        "id": "eyuzyUQ4y8Zs",
        "outputId": "1040aa6e-0758-47bb-8454-eec4a0ff46ee"
      },
      "execution_count": 16,
      "outputs": [
        {
          "output_type": "stream",
          "name": "stdout",
          "text": [
            "<class 'numpy.str_'>\n",
            "<class 'numpy.str_'>\n",
            "<class 'numpy.str_'>\n",
            "<class 'numpy.str_'>\n",
            "<class 'numpy.str_'>\n"
          ]
        }
      ]
    },
    {
      "cell_type": "code",
      "source": [
        "array2=np.array([[1,2,3],[4,5,6]])\n",
        "print(array2)"
      ],
      "metadata": {
        "colab": {
          "base_uri": "https://localhost:8080/"
        },
        "id": "p8I2q0DfzAob",
        "outputId": "86231c50-cd15-4d83-e081-95740fd216a0"
      },
      "execution_count": 18,
      "outputs": [
        {
          "output_type": "stream",
          "name": "stdout",
          "text": [
            "[[1 2 3]\n",
            " [4 5 6]]\n"
          ]
        }
      ]
    },
    {
      "cell_type": "code",
      "source": [
        "print(array2.ndim)"
      ],
      "metadata": {
        "colab": {
          "base_uri": "https://localhost:8080/"
        },
        "id": "r7aYspl9zLHg",
        "outputId": "5b6093b9-d900-4f71-ebde-6b17da6820f5"
      },
      "execution_count": 19,
      "outputs": [
        {
          "output_type": "stream",
          "name": "stdout",
          "text": [
            "2\n"
          ]
        }
      ]
    },
    {
      "cell_type": "code",
      "source": [
        "print(array2.shape)"
      ],
      "metadata": {
        "colab": {
          "base_uri": "https://localhost:8080/"
        },
        "id": "FpZWYkSyzXSB",
        "outputId": "a2c32a19-d0fd-4dfc-9d77-06d554a7d43c"
      },
      "execution_count": 20,
      "outputs": [
        {
          "output_type": "stream",
          "name": "stdout",
          "text": [
            "(2, 3)\n"
          ]
        }
      ]
    },
    {
      "cell_type": "code",
      "source": [
        "print(array2.size)"
      ],
      "metadata": {
        "colab": {
          "base_uri": "https://localhost:8080/"
        },
        "id": "adrr9q5pzaXe",
        "outputId": "13f329e2-2951-4f63-e6cb-40ada990ebb5"
      },
      "execution_count": 21,
      "outputs": [
        {
          "output_type": "stream",
          "name": "stdout",
          "text": [
            "6\n"
          ]
        }
      ]
    }
  ]
}